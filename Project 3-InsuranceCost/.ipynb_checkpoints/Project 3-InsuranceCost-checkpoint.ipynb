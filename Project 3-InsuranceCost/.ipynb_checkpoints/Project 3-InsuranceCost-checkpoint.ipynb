{
 "cells": [
  {
   "cell_type": "markdown",
   "id": "def25b28",
   "metadata": {},
   "source": [
    "## Business Case\n",
    "To create a model which can accurately estimate the cost of insurance for individuals based on their attributes."
   ]
  },
  {
   "cell_type": "markdown",
   "id": "108fa9d5",
   "metadata": {},
   "source": [
    "## Domain Analysis\n",
    "#### Columns\n",
    "- Age: Age of primary beneficiary\n",
    "- Sex: Insurance contractor gender, female or male\n",
    "- BMI: Body Mass Index, providing an understanding of body, weights that are relatively high or low relative to height\n",
    "- Children: Number of children covered by health insurance/Number of dependents\n",
    "- Smoker: Primary beneficary smokes or not\n",
    "- Region: The beneficary's residential area in the USA (northeast, northwest, southeast, southwest) \n",
    "- Charges: Individual medical cost billed by health insurance"
   ]
  },
  {
   "cell_type": "code",
   "execution_count": 275,
   "id": "0b226878",
   "metadata": {},
   "outputs": [],
   "source": [
    "# Importing libraries\n",
    "import pandas as pd\n",
    "import numpy as np\n",
    "import matplotlib.pyplot as plt\n",
    "import seaborn as sns\n",
    "import warnings\n",
    "warnings.filterwarnings('ignore')"
   ]
  },
  {
   "cell_type": "code",
   "execution_count": 276,
   "id": "bbf4c77e",
   "metadata": {},
   "outputs": [
    {
     "data": {
      "text/html": [
       "<div>\n",
       "<style scoped>\n",
       "    .dataframe tbody tr th:only-of-type {\n",
       "        vertical-align: middle;\n",
       "    }\n",
       "\n",
       "    .dataframe tbody tr th {\n",
       "        vertical-align: top;\n",
       "    }\n",
       "\n",
       "    .dataframe thead th {\n",
       "        text-align: right;\n",
       "    }\n",
       "</style>\n",
       "<table border=\"1\" class=\"dataframe\">\n",
       "  <thead>\n",
       "    <tr style=\"text-align: right;\">\n",
       "      <th></th>\n",
       "      <th>age</th>\n",
       "      <th>sex</th>\n",
       "      <th>bmi</th>\n",
       "      <th>children</th>\n",
       "      <th>smoker</th>\n",
       "      <th>region</th>\n",
       "      <th>charges</th>\n",
       "    </tr>\n",
       "  </thead>\n",
       "  <tbody>\n",
       "    <tr>\n",
       "      <th>0</th>\n",
       "      <td>19</td>\n",
       "      <td>female</td>\n",
       "      <td>27.900</td>\n",
       "      <td>0</td>\n",
       "      <td>yes</td>\n",
       "      <td>southwest</td>\n",
       "      <td>16884.92400</td>\n",
       "    </tr>\n",
       "    <tr>\n",
       "      <th>1</th>\n",
       "      <td>18</td>\n",
       "      <td>male</td>\n",
       "      <td>33.770</td>\n",
       "      <td>1</td>\n",
       "      <td>no</td>\n",
       "      <td>southeast</td>\n",
       "      <td>1725.55230</td>\n",
       "    </tr>\n",
       "    <tr>\n",
       "      <th>2</th>\n",
       "      <td>28</td>\n",
       "      <td>male</td>\n",
       "      <td>33.000</td>\n",
       "      <td>3</td>\n",
       "      <td>no</td>\n",
       "      <td>southeast</td>\n",
       "      <td>4449.46200</td>\n",
       "    </tr>\n",
       "    <tr>\n",
       "      <th>3</th>\n",
       "      <td>33</td>\n",
       "      <td>male</td>\n",
       "      <td>22.705</td>\n",
       "      <td>0</td>\n",
       "      <td>no</td>\n",
       "      <td>northwest</td>\n",
       "      <td>21984.47061</td>\n",
       "    </tr>\n",
       "    <tr>\n",
       "      <th>4</th>\n",
       "      <td>32</td>\n",
       "      <td>male</td>\n",
       "      <td>28.880</td>\n",
       "      <td>0</td>\n",
       "      <td>no</td>\n",
       "      <td>northwest</td>\n",
       "      <td>3866.85520</td>\n",
       "    </tr>\n",
       "    <tr>\n",
       "      <th>...</th>\n",
       "      <td>...</td>\n",
       "      <td>...</td>\n",
       "      <td>...</td>\n",
       "      <td>...</td>\n",
       "      <td>...</td>\n",
       "      <td>...</td>\n",
       "      <td>...</td>\n",
       "    </tr>\n",
       "    <tr>\n",
       "      <th>1333</th>\n",
       "      <td>50</td>\n",
       "      <td>male</td>\n",
       "      <td>30.970</td>\n",
       "      <td>3</td>\n",
       "      <td>no</td>\n",
       "      <td>northwest</td>\n",
       "      <td>10600.54830</td>\n",
       "    </tr>\n",
       "    <tr>\n",
       "      <th>1334</th>\n",
       "      <td>18</td>\n",
       "      <td>female</td>\n",
       "      <td>31.920</td>\n",
       "      <td>0</td>\n",
       "      <td>no</td>\n",
       "      <td>northeast</td>\n",
       "      <td>2205.98080</td>\n",
       "    </tr>\n",
       "    <tr>\n",
       "      <th>1335</th>\n",
       "      <td>18</td>\n",
       "      <td>female</td>\n",
       "      <td>36.850</td>\n",
       "      <td>0</td>\n",
       "      <td>no</td>\n",
       "      <td>southeast</td>\n",
       "      <td>1629.83350</td>\n",
       "    </tr>\n",
       "    <tr>\n",
       "      <th>1336</th>\n",
       "      <td>21</td>\n",
       "      <td>female</td>\n",
       "      <td>25.800</td>\n",
       "      <td>0</td>\n",
       "      <td>no</td>\n",
       "      <td>southwest</td>\n",
       "      <td>2007.94500</td>\n",
       "    </tr>\n",
       "    <tr>\n",
       "      <th>1337</th>\n",
       "      <td>61</td>\n",
       "      <td>female</td>\n",
       "      <td>29.070</td>\n",
       "      <td>0</td>\n",
       "      <td>yes</td>\n",
       "      <td>northwest</td>\n",
       "      <td>29141.36030</td>\n",
       "    </tr>\n",
       "  </tbody>\n",
       "</table>\n",
       "<p>1338 rows × 7 columns</p>\n",
       "</div>"
      ],
      "text/plain": [
       "      age     sex     bmi  children smoker     region      charges\n",
       "0      19  female  27.900         0    yes  southwest  16884.92400\n",
       "1      18    male  33.770         1     no  southeast   1725.55230\n",
       "2      28    male  33.000         3     no  southeast   4449.46200\n",
       "3      33    male  22.705         0     no  northwest  21984.47061\n",
       "4      32    male  28.880         0     no  northwest   3866.85520\n",
       "...   ...     ...     ...       ...    ...        ...          ...\n",
       "1333   50    male  30.970         3     no  northwest  10600.54830\n",
       "1334   18  female  31.920         0     no  northeast   2205.98080\n",
       "1335   18  female  36.850         0     no  southeast   1629.83350\n",
       "1336   21  female  25.800         0     no  southwest   2007.94500\n",
       "1337   61  female  29.070         0    yes  northwest  29141.36030\n",
       "\n",
       "[1338 rows x 7 columns]"
      ]
     },
     "execution_count": 276,
     "metadata": {},
     "output_type": "execute_result"
    }
   ],
   "source": [
    "# Importing data\n",
    "data=pd.read_csv('datasets_13720_18513_insurance(1).csv')\n",
    "data"
   ]
  },
  {
   "cell_type": "markdown",
   "id": "f55da8e3",
   "metadata": {},
   "source": [
    "## Basic Checks"
   ]
  },
  {
   "cell_type": "code",
   "execution_count": 277,
   "id": "062baec0",
   "metadata": {},
   "outputs": [
    {
     "name": "stdout",
     "output_type": "stream",
     "text": [
      "<class 'pandas.core.frame.DataFrame'>\n",
      "RangeIndex: 1338 entries, 0 to 1337\n",
      "Data columns (total 7 columns):\n",
      " #   Column    Non-Null Count  Dtype  \n",
      "---  ------    --------------  -----  \n",
      " 0   age       1338 non-null   int64  \n",
      " 1   sex       1338 non-null   object \n",
      " 2   bmi       1338 non-null   float64\n",
      " 3   children  1338 non-null   int64  \n",
      " 4   smoker    1338 non-null   object \n",
      " 5   region    1338 non-null   object \n",
      " 6   charges   1338 non-null   float64\n",
      "dtypes: float64(2), int64(2), object(3)\n",
      "memory usage: 73.3+ KB\n"
     ]
    }
   ],
   "source": [
    "data.info()"
   ]
  },
  {
   "cell_type": "markdown",
   "id": "0b39a3ac",
   "metadata": {},
   "source": [
    "#### Insights\n",
    "- There are 1338 records and 7 columns. Three columns namely, sex, bmi and region are categorical and rest four are numerical columns. \n",
    "- There is no null values present."
   ]
  },
  {
   "cell_type": "code",
   "execution_count": 278,
   "id": "553c80e5",
   "metadata": {},
   "outputs": [
    {
     "data": {
      "text/html": [
       "<div>\n",
       "<style scoped>\n",
       "    .dataframe tbody tr th:only-of-type {\n",
       "        vertical-align: middle;\n",
       "    }\n",
       "\n",
       "    .dataframe tbody tr th {\n",
       "        vertical-align: top;\n",
       "    }\n",
       "\n",
       "    .dataframe thead th {\n",
       "        text-align: right;\n",
       "    }\n",
       "</style>\n",
       "<table border=\"1\" class=\"dataframe\">\n",
       "  <thead>\n",
       "    <tr style=\"text-align: right;\">\n",
       "      <th></th>\n",
       "      <th>age</th>\n",
       "      <th>bmi</th>\n",
       "      <th>children</th>\n",
       "      <th>charges</th>\n",
       "    </tr>\n",
       "  </thead>\n",
       "  <tbody>\n",
       "    <tr>\n",
       "      <th>count</th>\n",
       "      <td>1338.000000</td>\n",
       "      <td>1338.000000</td>\n",
       "      <td>1338.000000</td>\n",
       "      <td>1338.000000</td>\n",
       "    </tr>\n",
       "    <tr>\n",
       "      <th>mean</th>\n",
       "      <td>39.207025</td>\n",
       "      <td>30.663397</td>\n",
       "      <td>1.094918</td>\n",
       "      <td>13270.422265</td>\n",
       "    </tr>\n",
       "    <tr>\n",
       "      <th>std</th>\n",
       "      <td>14.049960</td>\n",
       "      <td>6.098187</td>\n",
       "      <td>1.205493</td>\n",
       "      <td>12110.011237</td>\n",
       "    </tr>\n",
       "    <tr>\n",
       "      <th>min</th>\n",
       "      <td>18.000000</td>\n",
       "      <td>15.960000</td>\n",
       "      <td>0.000000</td>\n",
       "      <td>1121.873900</td>\n",
       "    </tr>\n",
       "    <tr>\n",
       "      <th>25%</th>\n",
       "      <td>27.000000</td>\n",
       "      <td>26.296250</td>\n",
       "      <td>0.000000</td>\n",
       "      <td>4740.287150</td>\n",
       "    </tr>\n",
       "    <tr>\n",
       "      <th>50%</th>\n",
       "      <td>39.000000</td>\n",
       "      <td>30.400000</td>\n",
       "      <td>1.000000</td>\n",
       "      <td>9382.033000</td>\n",
       "    </tr>\n",
       "    <tr>\n",
       "      <th>75%</th>\n",
       "      <td>51.000000</td>\n",
       "      <td>34.693750</td>\n",
       "      <td>2.000000</td>\n",
       "      <td>16639.912515</td>\n",
       "    </tr>\n",
       "    <tr>\n",
       "      <th>max</th>\n",
       "      <td>64.000000</td>\n",
       "      <td>53.130000</td>\n",
       "      <td>5.000000</td>\n",
       "      <td>63770.428010</td>\n",
       "    </tr>\n",
       "  </tbody>\n",
       "</table>\n",
       "</div>"
      ],
      "text/plain": [
       "               age          bmi     children       charges\n",
       "count  1338.000000  1338.000000  1338.000000   1338.000000\n",
       "mean     39.207025    30.663397     1.094918  13270.422265\n",
       "std      14.049960     6.098187     1.205493  12110.011237\n",
       "min      18.000000    15.960000     0.000000   1121.873900\n",
       "25%      27.000000    26.296250     0.000000   4740.287150\n",
       "50%      39.000000    30.400000     1.000000   9382.033000\n",
       "75%      51.000000    34.693750     2.000000  16639.912515\n",
       "max      64.000000    53.130000     5.000000  63770.428010"
      ]
     },
     "execution_count": 278,
     "metadata": {},
     "output_type": "execute_result"
    }
   ],
   "source": [
    "# Finding descriptive measures for numerical columns\n",
    "data.describe()"
   ]
  },
  {
   "cell_type": "markdown",
   "id": "8c8a3d0d",
   "metadata": {},
   "source": [
    "#### Insights\n",
    "- The average age of beneficiary is 39 years. 75 percent beneficiaries are under 51 years of age.\n",
    "- The average number of children covered in health insurance is 1.\n",
    "- The average charge of health insurance is 13270.42(in dollars). The least and maximum charge are 1121.87 and 63770.42(in dollars) respectively.   "
   ]
  },
  {
   "cell_type": "code",
   "execution_count": 279,
   "id": "a15f9f17",
   "metadata": {},
   "outputs": [
    {
     "data": {
      "text/html": [
       "<div>\n",
       "<style scoped>\n",
       "    .dataframe tbody tr th:only-of-type {\n",
       "        vertical-align: middle;\n",
       "    }\n",
       "\n",
       "    .dataframe tbody tr th {\n",
       "        vertical-align: top;\n",
       "    }\n",
       "\n",
       "    .dataframe thead th {\n",
       "        text-align: right;\n",
       "    }\n",
       "</style>\n",
       "<table border=\"1\" class=\"dataframe\">\n",
       "  <thead>\n",
       "    <tr style=\"text-align: right;\">\n",
       "      <th></th>\n",
       "      <th>sex</th>\n",
       "      <th>smoker</th>\n",
       "      <th>region</th>\n",
       "    </tr>\n",
       "  </thead>\n",
       "  <tbody>\n",
       "    <tr>\n",
       "      <th>count</th>\n",
       "      <td>1338</td>\n",
       "      <td>1338</td>\n",
       "      <td>1338</td>\n",
       "    </tr>\n",
       "    <tr>\n",
       "      <th>unique</th>\n",
       "      <td>2</td>\n",
       "      <td>2</td>\n",
       "      <td>4</td>\n",
       "    </tr>\n",
       "    <tr>\n",
       "      <th>top</th>\n",
       "      <td>male</td>\n",
       "      <td>no</td>\n",
       "      <td>southeast</td>\n",
       "    </tr>\n",
       "    <tr>\n",
       "      <th>freq</th>\n",
       "      <td>676</td>\n",
       "      <td>1064</td>\n",
       "      <td>364</td>\n",
       "    </tr>\n",
       "  </tbody>\n",
       "</table>\n",
       "</div>"
      ],
      "text/plain": [
       "         sex smoker     region\n",
       "count   1338   1338       1338\n",
       "unique     2      2          4\n",
       "top     male     no  southeast\n",
       "freq     676   1064        364"
      ]
     },
     "execution_count": 279,
     "metadata": {},
     "output_type": "execute_result"
    }
   ],
   "source": [
    "# For categorical columns\n",
    "data.describe(include='O')"
   ]
  },
  {
   "cell_type": "markdown",
   "id": "c7f75f3c",
   "metadata": {},
   "source": [
    "#### Insights\n",
    "- 50.5% of beneficiaries are male.\n",
    "- 79.5% of beneficiaries are non-smokers.\n",
    "- Most number of beneficiaries belong to southeast region."
   ]
  },
  {
   "cell_type": "markdown",
   "id": "6076dbf5",
   "metadata": {},
   "source": [
    "## Exploratory Data Analysis"
   ]
  },
  {
   "cell_type": "markdown",
   "id": "44dd5c2d",
   "metadata": {},
   "source": [
    "### Univariate Analysis"
   ]
  },
  {
   "cell_type": "code",
   "execution_count": 280,
   "id": "0b1d84e1",
   "metadata": {},
   "outputs": [
    {
     "data": {
      "text/plain": [
       "<Axes: xlabel='sex', ylabel='count'>"
      ]
     },
     "execution_count": 280,
     "metadata": {},
     "output_type": "execute_result"
    },
    {
     "data": {
      "image/png": "[encoded data removed]",
      "text/plain": [
       "<Figure size 640x480 with 1 Axes>"
      ]
     },
     "metadata": {},
     "output_type": "display_data"
    }
   ],
   "source": [
    "# Plotting countplot for 'sex' column\n",
    "sns.countplot(x='sex',data=data)"
   ]
  },
  {
   "cell_type": "code",
   "execution_count": 281,
   "id": "64a76f6e",
   "metadata": {},
   "outputs": [
    {
     "data": {
      "text/plain": [
       "<Axes: xlabel='smoker', ylabel='count'>"
      ]
     },
     "execution_count": 281,
     "metadata": {},
     "output_type": "execute_result"
    },
    {
     "data": {
      "image/png": "[encoded data removed]",
      "text/plain": [
       "<Figure size 640x480 with 1 Axes>"
      ]
     },
     "metadata": {},
     "output_type": "display_data"
    }
   ],
   "source": [
    "# Plotting countplot for 'smoker' column\n",
    "sns.countplot(x='smoker',data=data)"
   ]
  },
  {
   "cell_type": "code",
   "execution_count": 282,
   "id": "2fd6e081",
   "metadata": {},
   "outputs": [
    {
     "data": {
      "text/plain": [
       "<Axes: xlabel='region', ylabel='count'>"
      ]
     },
     "execution_count": 282,
     "metadata": {},
     "output_type": "execute_result"
    },
    {
     "data": {
      "image/png": "[encoded data removed]",
      "text/plain": [
       "<Figure size 640x480 with 1 Axes>"
      ]
     },
     "metadata": {},
     "output_type": "display_data"
    }
   ],
   "source": [
    "# Plotting countplot for 'region' column\n",
    "sns.countplot(x='region',data=data)"
   ]
  },
  {
   "cell_type": "markdown",
   "id": "9dd75170",
   "metadata": {},
   "source": [
    "### Bivariate Analysis"
   ]
  },
  {
   "cell_type": "code",
   "execution_count": 283,
   "id": "7820f084",
   "metadata": {},
   "outputs": [
    {
     "data": {
      "text/plain": [
       "<Axes: xlabel='sex', ylabel='age'>"
      ]
     },
     "execution_count": 283,
     "metadata": {},
     "output_type": "execute_result"
    },
    {
     "data": {
      "image/png": "[encoded data removed]",
      "text/plain": [
       "<Figure size 640x480 with 1 Axes>"
      ]
     },
     "metadata": {},
     "output_type": "display_data"
    }
   ],
   "source": [
    "# Finding relationship between age and sex\n",
    "sns.barplot(x='sex',y='age',data=data)"
   ]
  },
  {
   "cell_type": "code",
   "execution_count": 284,
   "id": "902f5a48",
   "metadata": {},
   "outputs": [
    {
     "data": {
      "text/plain": [
       "<Axes: xlabel='sex', ylabel='age'>"
      ]
     },
     "execution_count": 284,
     "metadata": {},
     "output_type": "execute_result"
    },
    {
     "data": {
      "image/png": "[encoded data removed]",
      "text/plain": [
       "<Figure size 640x480 with 1 Axes>"
      ]
     },
     "metadata": {},
     "output_type": "display_data"
    }
   ],
   "source": [
    "# Finding relationship between age,sex and smoker\n",
    "sns.barplot(x='sex',y='age',hue='smoker',data=data)"
   ]
  },
  {
   "cell_type": "code",
   "execution_count": 285,
   "id": "707bd9fe",
   "metadata": {},
   "outputs": [
    {
     "data": {
      "text/plain": [
       "<Axes: xlabel='sex', ylabel='charges'>"
      ]
     },
     "execution_count": 285,
     "metadata": {},
     "output_type": "execute_result"
    },
    {
     "data": {
      "image/png": "[encoded data removed]",
      "text/plain": [
       "<Figure size 640x480 with 1 Axes>"
      ]
     },
     "metadata": {},
     "output_type": "display_data"
    }
   ],
   "source": [
    "# Finding relationship between sex and charges\n",
    "sns.barplot(x='sex',y='charges',data=data)"
   ]
  },
  {
   "cell_type": "code",
   "execution_count": 286,
   "id": "75224e3d",
   "metadata": {},
   "outputs": [
    {
     "data": {
      "text/plain": [
       "<Axes: xlabel='children', ylabel='charges'>"
      ]
     },
     "execution_count": 286,
     "metadata": {},
     "output_type": "execute_result"
    },
    {
     "data": {
      "image/png": "[encoded data removed]",
      "text/plain": [
       "<Figure size 640x480 with 1 Axes>"
      ]
     },
     "metadata": {},
     "output_type": "display_data"
    }
   ],
   "source": [
    "# Finding relationship between children and charges\n",
    "sns.barplot(x='children',y='charges',data=data)"
   ]
  },
  {
   "cell_type": "code",
   "execution_count": 287,
   "id": "c42994b0",
   "metadata": {},
   "outputs": [
    {
     "data": {
      "text/plain": [
       "<seaborn.axisgrid.FacetGrid at 0x25f143e8b50>"
      ]
     },
     "execution_count": 287,
     "metadata": {},
     "output_type": "execute_result"
    },
    {
     "data": {
      "image/png": "[encoded data removed]",
      "text/plain": [
       "<Figure size 500x500 with 1 Axes>"
      ]
     },
     "metadata": {},
     "output_type": "display_data"
    }
   ],
   "source": [
    "# Finding distribution type for bmi column\n",
    "sns.displot(x=data.bmi,kde=True)"
   ]
  },
  {
   "cell_type": "code",
   "execution_count": 288,
   "id": "766b6c20",
   "metadata": {},
   "outputs": [
    {
     "data": {
      "text/plain": [
       "<seaborn.axisgrid.FacetGrid at 0x25f146b4580>"
      ]
     },
     "execution_count": 288,
     "metadata": {},
     "output_type": "execute_result"
    },
    {
     "data": {
      "image/png": "[encoded data removed]",
      "text/plain": [
       "<Figure size 500x500 with 1 Axes>"
      ]
     },
     "metadata": {},
     "output_type": "display_data"
    }
   ],
   "source": [
    "# Finding distribution type for children column\n",
    "sns.displot(x=data.children,kde=True)"
   ]
  },
  {
   "cell_type": "code",
   "execution_count": 289,
   "id": "e805a4b3",
   "metadata": {
    "scrolled": true
   },
   "outputs": [
    {
     "data": {
      "text/plain": [
       "<seaborn.axisgrid.FacetGrid at 0x25f14811c60>"
      ]
     },
     "execution_count": 289,
     "metadata": {},
     "output_type": "execute_result"
    },
    {
     "data": {
      "image/png": "[encoded data removed]",
      "text/plain": [
       "<Figure size 500x500 with 1 Axes>"
      ]
     },
     "metadata": {},
     "output_type": "display_data"
    }
   ],
   "source": [
    "# # Finding distribution type for age column\n",
    "sns.displot(x=data.age,kde=True)"
   ]
  },
  {
   "cell_type": "markdown",
   "id": "60b36293",
   "metadata": {},
   "source": [
    "#### Insights\n",
    "- Number of male and female insurance contractor is almost equal, that is 676 male and 662 female. Also the average age of male and female contractor is almost equal.\n",
    "- Most of the beneficiary do not smoke. It can be observed that around 1050 beneficiaries out of 1338 total beneficiary don't smoke.\n",
    "- Southeast region has highest number of beneficiaries and other three regions have almost equal number of beneficiaries.\n",
    "- The average age of beneficiaries who smoke is slightly lesser than those beneficiaries who do not smoke.\n",
    "- The male beneficiaries are paying more charges than the female beneficiaries. The average insurance charge paid by male is 14000(in dollars) and by female is 12000(in dollars).\n",
    "- The beneficiaries having three children are paying highest amount of insurance charge, around 15000(in dollars) on an average. It is followed by beneficiaries having two children. The least amount is being paid by the beneficiaries having five children.\n",
    "- It can be seen from BMI distribution plot that BMI is normally distributed and so 68% of beneficiaries comes under range of 24.57 to 36.75 and 95% of beneficiaries comes under range of 18.48 to 42.84.\n"
   ]
  },
  {
   "cell_type": "markdown",
   "id": "b079efe7",
   "metadata": {},
   "source": [
    "## Data Preprocessing"
   ]
  },
  {
   "cell_type": "code",
   "execution_count": 290,
   "id": "ca9bc31f",
   "metadata": {},
   "outputs": [
    {
     "name": "stdout",
     "output_type": "stream",
     "text": [
      "<class 'pandas.core.frame.DataFrame'>\n",
      "RangeIndex: 1338 entries, 0 to 1337\n",
      "Data columns (total 7 columns):\n",
      " #   Column    Non-Null Count  Dtype  \n",
      "---  ------    --------------  -----  \n",
      " 0   age       1338 non-null   int64  \n",
      " 1   sex       1338 non-null   object \n",
      " 2   bmi       1338 non-null   float64\n",
      " 3   children  1338 non-null   int64  \n",
      " 4   smoker    1338 non-null   object \n",
      " 5   region    1338 non-null   object \n",
      " 6   charges   1338 non-null   float64\n",
      "dtypes: float64(2), int64(2), object(3)\n",
      "memory usage: 73.3+ KB\n"
     ]
    }
   ],
   "source": [
    "data.info()"
   ]
  },
  {
   "cell_type": "markdown",
   "id": "061855ce",
   "metadata": {},
   "source": [
    "### Checking for missing values"
   ]
  },
  {
   "cell_type": "code",
   "execution_count": 291,
   "id": "55ce94fa",
   "metadata": {},
   "outputs": [
    {
     "data": {
      "text/plain": [
       "age         0\n",
       "sex         0\n",
       "bmi         0\n",
       "children    0\n",
       "smoker      0\n",
       "region      0\n",
       "charges     0\n",
       "dtype: int64"
      ]
     },
     "execution_count": 291,
     "metadata": {},
     "output_type": "execute_result"
    }
   ],
   "source": [
    "data.isnull().sum()"
   ]
  },
  {
   "cell_type": "markdown",
   "id": "13743290",
   "metadata": {},
   "source": [
    "### Checking for outliers"
   ]
  },
  {
   "cell_type": "code",
   "execution_count": 292,
   "id": "f42c00a3",
   "metadata": {},
   "outputs": [
    {
     "data": {
      "text/plain": [
       "<Axes: xlabel='age'>"
      ]
     },
     "execution_count": 292,
     "metadata": {},
     "output_type": "execute_result"
    },
    {
     "data": {
      "image/png": "[encoded data removed]",
      "text/plain": [
       "<Figure size 640x480 with 1 Axes>"
      ]
     },
     "metadata": {},
     "output_type": "display_data"
    }
   ],
   "source": [
    "# Checking outliers for 'age' column\n",
    "sns.boxplot(x='age',data=data)"
   ]
  },
  {
   "cell_type": "code",
   "execution_count": 293,
   "id": "4b25cf9a",
   "metadata": {},
   "outputs": [
    {
     "data": {
      "text/plain": [
       "<Axes: xlabel='children'>"
      ]
     },
     "execution_count": 293,
     "metadata": {},
     "output_type": "execute_result"
    },
    {
     "data": {
      "image/png": "[encoded data removed]",
      "text/plain": [
       "<Figure size 640x480 with 1 Axes>"
      ]
     },
     "metadata": {},
     "output_type": "display_data"
    }
   ],
   "source": [
    "# Checking outliers for 'children' column\n",
    "sns.boxplot(x='children',data=data)"
   ]
  },
  {
   "cell_type": "code",
   "execution_count": 294,
   "id": "7b67ab94",
   "metadata": {},
   "outputs": [
    {
     "data": {
      "text/plain": [
       "<Axes: xlabel='bmi'>"
      ]
     },
     "execution_count": 294,
     "metadata": {},
     "output_type": "execute_result"
    },
    {
     "data": {
      "image/png": "[encoded data removed]",
      "text/plain": [
       "<Figure size 640x480 with 1 Axes>"
      ]
     },
     "metadata": {},
     "output_type": "display_data"
    }
   ],
   "source": [
    "# Checking outliers for 'bmi' column\n",
    "sns.boxplot(x='bmi',data=data)"
   ]
  },
  {
   "cell_type": "markdown",
   "id": "55db14d8",
   "metadata": {},
   "source": [
    "### Checking for duplicated rows"
   ]
  },
  {
   "cell_type": "code",
   "execution_count": 295,
   "id": "9aca30d0",
   "metadata": {},
   "outputs": [
    {
     "data": {
      "text/plain": [
       "1"
      ]
     },
     "execution_count": 295,
     "metadata": {},
     "output_type": "execute_result"
    }
   ],
   "source": [
    "data.duplicated().sum()"
   ]
  },
  {
   "cell_type": "code",
   "execution_count": 296,
   "id": "662a2491",
   "metadata": {},
   "outputs": [],
   "source": [
    "data.drop_duplicates(keep='first',inplace=True)"
   ]
  },
  {
   "cell_type": "code",
   "execution_count": 297,
   "id": "5e304a6c",
   "metadata": {},
   "outputs": [
    {
     "data": {
      "text/plain": [
       "0"
      ]
     },
     "execution_count": 297,
     "metadata": {},
     "output_type": "execute_result"
    }
   ],
   "source": [
    "data.duplicated().sum()"
   ]
  },
  {
   "cell_type": "code",
   "execution_count": 298,
   "id": "5f7548c1",
   "metadata": {},
   "outputs": [
    {
     "data": {
      "text/plain": [
       "(1337, 7)"
      ]
     },
     "execution_count": 298,
     "metadata": {},
     "output_type": "execute_result"
    }
   ],
   "source": [
    "data.shape"
   ]
  },
  {
   "cell_type": "markdown",
   "id": "0ec08cfb",
   "metadata": {},
   "source": [
    "#### Insights\n",
    "- There are no missing values present in any columns.\n",
    "- It is clear from the above box plot that there is no any outliers present in age and children columns. Also the dots after upper boundary in the box plot for bmi cannot be considered outliers because of not much larger difference in values.\n",
    "- There is one duplicated rows which have been dropped from the dataset."
   ]
  },
  {
   "cell_type": "markdown",
   "id": "d7247b26",
   "metadata": {},
   "source": [
    "### Converting categorical columns into numerical columns"
   ]
  },
  {
   "cell_type": "code",
   "execution_count": 299,
   "id": "0c8c913b",
   "metadata": {},
   "outputs": [],
   "source": [
    "# Using Label Encoding\n",
    "from sklearn.preprocessing import LabelEncoder\n",
    "\n",
    "label= LabelEncoder()\n",
    "data.sex=label.fit_transform(data.sex)\n",
    "data.smoker=label.fit_transform(data.smoker)\n",
    "data.region=label.fit_transform(data.region)"
   ]
  },
  {
   "cell_type": "code",
   "execution_count": 300,
   "id": "92752884",
   "metadata": {},
   "outputs": [
    {
     "data": {
      "text/html": [
       "<div>\n",
       "<style scoped>\n",
       "    .dataframe tbody tr th:only-of-type {\n",
       "        vertical-align: middle;\n",
       "    }\n",
       "\n",
       "    .dataframe tbody tr th {\n",
       "        vertical-align: top;\n",
       "    }\n",
       "\n",
       "    .dataframe thead th {\n",
       "        text-align: right;\n",
       "    }\n",
       "</style>\n",
       "<table border=\"1\" class=\"dataframe\">\n",
       "  <thead>\n",
       "    <tr style=\"text-align: right;\">\n",
       "      <th></th>\n",
       "      <th>age</th>\n",
       "      <th>sex</th>\n",
       "      <th>bmi</th>\n",
       "      <th>children</th>\n",
       "      <th>smoker</th>\n",
       "      <th>region</th>\n",
       "      <th>charges</th>\n",
       "    </tr>\n",
       "  </thead>\n",
       "  <tbody>\n",
       "    <tr>\n",
       "      <th>0</th>\n",
       "      <td>19</td>\n",
       "      <td>0</td>\n",
       "      <td>27.900</td>\n",
       "      <td>0</td>\n",
       "      <td>1</td>\n",
       "      <td>3</td>\n",
       "      <td>16884.92400</td>\n",
       "    </tr>\n",
       "    <tr>\n",
       "      <th>1</th>\n",
       "      <td>18</td>\n",
       "      <td>1</td>\n",
       "      <td>33.770</td>\n",
       "      <td>1</td>\n",
       "      <td>0</td>\n",
       "      <td>2</td>\n",
       "      <td>1725.55230</td>\n",
       "    </tr>\n",
       "    <tr>\n",
       "      <th>2</th>\n",
       "      <td>28</td>\n",
       "      <td>1</td>\n",
       "      <td>33.000</td>\n",
       "      <td>3</td>\n",
       "      <td>0</td>\n",
       "      <td>2</td>\n",
       "      <td>4449.46200</td>\n",
       "    </tr>\n",
       "    <tr>\n",
       "      <th>3</th>\n",
       "      <td>33</td>\n",
       "      <td>1</td>\n",
       "      <td>22.705</td>\n",
       "      <td>0</td>\n",
       "      <td>0</td>\n",
       "      <td>1</td>\n",
       "      <td>21984.47061</td>\n",
       "    </tr>\n",
       "    <tr>\n",
       "      <th>4</th>\n",
       "      <td>32</td>\n",
       "      <td>1</td>\n",
       "      <td>28.880</td>\n",
       "      <td>0</td>\n",
       "      <td>0</td>\n",
       "      <td>1</td>\n",
       "      <td>3866.85520</td>\n",
       "    </tr>\n",
       "  </tbody>\n",
       "</table>\n",
       "</div>"
      ],
      "text/plain": [
       "   age  sex     bmi  children  smoker  region      charges\n",
       "0   19    0  27.900         0       1       3  16884.92400\n",
       "1   18    1  33.770         1       0       2   1725.55230\n",
       "2   28    1  33.000         3       0       2   4449.46200\n",
       "3   33    1  22.705         0       0       1  21984.47061\n",
       "4   32    1  28.880         0       0       1   3866.85520"
      ]
     },
     "execution_count": 300,
     "metadata": {},
     "output_type": "execute_result"
    }
   ],
   "source": [
    "data.head()\n"
   ]
  },
  {
   "cell_type": "code",
   "execution_count": 301,
   "id": "78674101",
   "metadata": {},
   "outputs": [
    {
     "name": "stdout",
     "output_type": "stream",
     "text": [
      "<class 'pandas.core.frame.DataFrame'>\n",
      "Int64Index: 1337 entries, 0 to 1337\n",
      "Data columns (total 7 columns):\n",
      " #   Column    Non-Null Count  Dtype  \n",
      "---  ------    --------------  -----  \n",
      " 0   age       1337 non-null   int64  \n",
      " 1   sex       1337 non-null   int32  \n",
      " 2   bmi       1337 non-null   float64\n",
      " 3   children  1337 non-null   int64  \n",
      " 4   smoker    1337 non-null   int32  \n",
      " 5   region    1337 non-null   int32  \n",
      " 6   charges   1337 non-null   float64\n",
      "dtypes: float64(2), int32(3), int64(2)\n",
      "memory usage: 67.9 KB\n"
     ]
    }
   ],
   "source": [
    "data.info()"
   ]
  },
  {
   "cell_type": "markdown",
   "id": "e11a7126",
   "metadata": {},
   "source": [
    "### Feature selection"
   ]
  },
  {
   "cell_type": "code",
   "execution_count": 302,
   "id": "25378ca0",
   "metadata": {},
   "outputs": [
    {
     "data": {
      "text/html": [
       "<div>\n",
       "<style scoped>\n",
       "    .dataframe tbody tr th:only-of-type {\n",
       "        vertical-align: middle;\n",
       "    }\n",
       "\n",
       "    .dataframe tbody tr th {\n",
       "        vertical-align: top;\n",
       "    }\n",
       "\n",
       "    .dataframe thead th {\n",
       "        text-align: right;\n",
       "    }\n",
       "</style>\n",
       "<table border=\"1\" class=\"dataframe\">\n",
       "  <thead>\n",
       "    <tr style=\"text-align: right;\">\n",
       "      <th></th>\n",
       "      <th>age</th>\n",
       "      <th>sex</th>\n",
       "      <th>bmi</th>\n",
       "      <th>children</th>\n",
       "      <th>smoker</th>\n",
       "      <th>region</th>\n",
       "      <th>charges</th>\n",
       "    </tr>\n",
       "  </thead>\n",
       "  <tbody>\n",
       "    <tr>\n",
       "      <th>age</th>\n",
       "      <td>1.000000</td>\n",
       "      <td>-0.019814</td>\n",
       "      <td>0.109344</td>\n",
       "      <td>0.041536</td>\n",
       "      <td>-0.025587</td>\n",
       "      <td>0.001626</td>\n",
       "      <td>0.298308</td>\n",
       "    </tr>\n",
       "    <tr>\n",
       "      <th>sex</th>\n",
       "      <td>-0.019814</td>\n",
       "      <td>1.000000</td>\n",
       "      <td>0.046397</td>\n",
       "      <td>0.017848</td>\n",
       "      <td>0.076596</td>\n",
       "      <td>0.004936</td>\n",
       "      <td>0.058044</td>\n",
       "    </tr>\n",
       "    <tr>\n",
       "      <th>bmi</th>\n",
       "      <td>0.109344</td>\n",
       "      <td>0.046397</td>\n",
       "      <td>1.000000</td>\n",
       "      <td>0.012755</td>\n",
       "      <td>0.003746</td>\n",
       "      <td>0.157574</td>\n",
       "      <td>0.198401</td>\n",
       "    </tr>\n",
       "    <tr>\n",
       "      <th>children</th>\n",
       "      <td>0.041536</td>\n",
       "      <td>0.017848</td>\n",
       "      <td>0.012755</td>\n",
       "      <td>1.000000</td>\n",
       "      <td>0.007331</td>\n",
       "      <td>0.016258</td>\n",
       "      <td>0.067389</td>\n",
       "    </tr>\n",
       "    <tr>\n",
       "      <th>smoker</th>\n",
       "      <td>-0.025587</td>\n",
       "      <td>0.076596</td>\n",
       "      <td>0.003746</td>\n",
       "      <td>0.007331</td>\n",
       "      <td>1.000000</td>\n",
       "      <td>-0.002358</td>\n",
       "      <td>0.787234</td>\n",
       "    </tr>\n",
       "    <tr>\n",
       "      <th>region</th>\n",
       "      <td>0.001626</td>\n",
       "      <td>0.004936</td>\n",
       "      <td>0.157574</td>\n",
       "      <td>0.016258</td>\n",
       "      <td>-0.002358</td>\n",
       "      <td>1.000000</td>\n",
       "      <td>-0.006547</td>\n",
       "    </tr>\n",
       "    <tr>\n",
       "      <th>charges</th>\n",
       "      <td>0.298308</td>\n",
       "      <td>0.058044</td>\n",
       "      <td>0.198401</td>\n",
       "      <td>0.067389</td>\n",
       "      <td>0.787234</td>\n",
       "      <td>-0.006547</td>\n",
       "      <td>1.000000</td>\n",
       "    </tr>\n",
       "  </tbody>\n",
       "</table>\n",
       "</div>"
      ],
      "text/plain": [
       "               age       sex       bmi  children    smoker    region   charges\n",
       "age       1.000000 -0.019814  0.109344  0.041536 -0.025587  0.001626  0.298308\n",
       "sex      -0.019814  1.000000  0.046397  0.017848  0.076596  0.004936  0.058044\n",
       "bmi       0.109344  0.046397  1.000000  0.012755  0.003746  0.157574  0.198401\n",
       "children  0.041536  0.017848  0.012755  1.000000  0.007331  0.016258  0.067389\n",
       "smoker   -0.025587  0.076596  0.003746  0.007331  1.000000 -0.002358  0.787234\n",
       "region    0.001626  0.004936  0.157574  0.016258 -0.002358  1.000000 -0.006547\n",
       "charges   0.298308  0.058044  0.198401  0.067389  0.787234 -0.006547  1.000000"
      ]
     },
     "execution_count": 302,
     "metadata": {},
     "output_type": "execute_result"
    }
   ],
   "source": [
    "data.corr()"
   ]
  },
  {
   "cell_type": "code",
   "execution_count": 303,
   "id": "d76b7dd0",
   "metadata": {
    "scrolled": true
   },
   "outputs": [
    {
     "data": {
      "text/plain": [
       "<Axes: >"
      ]
     },
     "execution_count": 303,
     "metadata": {},
     "output_type": "execute_result"
    },
    {
     "data": {
      "image/png": "[encoded data removed]",
      "text/plain": [
       "<Figure size 640x480 with 2 Axes>"
      ]
     },
     "metadata": {},
     "output_type": "display_data"
    }
   ],
   "source": [
    "sns.heatmap(data.corr(),annot=True)"
   ]
  },
  {
   "cell_type": "markdown",
   "id": "974fa360",
   "metadata": {},
   "source": [
    "#### Insight\n",
    "- From the heatmap, it can be seen that 'age' and 'smoker' columns are highly correated to the target column 'charges'. "
   ]
  },
  {
   "cell_type": "markdown",
   "id": "07032395",
   "metadata": {},
   "source": [
    "## Model Creation"
   ]
  },
  {
   "cell_type": "code",
   "execution_count": 304,
   "id": "17644e3e",
   "metadata": {},
   "outputs": [],
   "source": [
    "# Creating independent and dependent variables\n",
    "X=data.iloc[:,:-1]\n",
    "y=data.charges"
   ]
  },
  {
   "cell_type": "code",
   "execution_count": 305,
   "id": "5e41e0b1",
   "metadata": {},
   "outputs": [],
   "source": [
    "#Traning and testing data creation\n",
    "from sklearn.model_selection import train_test_split\n",
    "X_train,X_test,y_train,y_test=train_test_split(X,y,test_size=0.30,random_state=4)"
   ]
  },
  {
   "cell_type": "code",
   "execution_count": 306,
   "id": "c1925a28",
   "metadata": {},
   "outputs": [
    {
     "data": {
      "text/plain": [
       "(402,)"
      ]
     },
     "execution_count": 306,
     "metadata": {},
     "output_type": "execute_result"
    }
   ],
   "source": [
    "y_test.shape"
   ]
  },
  {
   "cell_type": "code",
   "execution_count": 307,
   "id": "eee00bd1",
   "metadata": {},
   "outputs": [
    {
     "data": {
      "text/plain": [
       "221     10564.88450\n",
       "118      8601.32930\n",
       "438     12592.53450\n",
       "124     10115.00885\n",
       "352      3554.20300\n",
       "           ...     \n",
       "360     10043.24900\n",
       "710      1727.54000\n",
       "439      2897.32350\n",
       "174      2855.43755\n",
       "1147     2261.56880\n",
       "Name: charges, Length: 935, dtype: float64"
      ]
     },
     "execution_count": 307,
     "metadata": {},
     "output_type": "execute_result"
    }
   ],
   "source": [
    "y_train"
   ]
  },
  {
   "cell_type": "markdown",
   "id": "439c80d2",
   "metadata": {},
   "source": [
    "### Applying Linear Regression"
   ]
  },
  {
   "cell_type": "code",
   "execution_count": 308,
   "id": "d9eaf03f",
   "metadata": {},
   "outputs": [],
   "source": [
    "# Creating model\n",
    "from sklearn.linear_model import LinearRegression\n",
    "LR=LinearRegression()                                             # object creation\n",
    "LR.fit(X_train,y_train)                                           # training of linear regression\n",
    "y_predict=LR.predict(X_test)                                      # Model Prediction"
   ]
  },
  {
   "cell_type": "code",
   "execution_count": 309,
   "id": "3f42de02",
   "metadata": {},
   "outputs": [
    {
     "data": {
      "text/plain": [
       "727    16657.71745\n",
       "260    11837.16000\n",
       "903     8125.78450\n",
       "566     6373.55735\n",
       "777     7448.40395\n",
       "          ...     \n",
       "333    11658.37915\n",
       "736    40419.01910\n",
       "248     1832.09400\n",
       "771    11150.78000\n",
       "406     4185.09790\n",
       "Name: charges, Length: 402, dtype: float64"
      ]
     },
     "execution_count": 309,
     "metadata": {},
     "output_type": "execute_result"
    }
   ],
   "source": [
    "y_test"
   ]
  },
  {
   "cell_type": "code",
   "execution_count": 310,
   "id": "d0472ee9",
   "metadata": {
    "collapsed": true
   },
   "outputs": [
    {
     "data": {
      "text/plain": [
       "array([27345.62452875, 11043.87205041, 12352.50821384, 11585.35532199,\n",
       "       12926.84581491,  1837.83861636, 15497.04607466, 32426.33669459,\n",
       "       36688.64201968,  1857.03870257, 10559.90924032, 34014.90182789,\n",
       "       26497.85121541, 14055.71008417, 17056.52513336, 40893.95029458,\n",
       "       11909.3353262 , 15696.00390538, 38982.7950939 ,  2434.18386259,\n",
       "        2708.97940267, 15289.15833091,  8636.50331752,  3831.09705099,\n",
       "        9048.55621731, 32358.31065421, 37853.4790542 ,  9017.65401709,\n",
       "       32093.83043662, 10434.11958914,   196.86848151,  1578.31822789,\n",
       "       14013.92487589,  4087.57695743,  9493.68184822,  1506.14122729,\n",
       "       15771.11928637, 15431.86096299,  5234.68296481,  -403.60498553,\n",
       "       14105.1780874 , 11296.63260762,  6966.49392028, 31028.52492623,\n",
       "        9432.09934008, 11892.9810214 , 34068.91042057,  5812.77333354,\n",
       "       13930.96447842, 13895.78558924,  6850.07905211,  4072.30124049,\n",
       "       25805.40227942,  5919.9387734 ,  2542.45898316, 11702.53074517,\n",
       "       12918.16280631,  2590.59771253, -1274.30930815,  3825.40027169,\n",
       "       11485.34530373,  7058.00558782,  6716.43720616, 11885.97102078,\n",
       "       37605.13028334,  9928.0581978 ,  5769.41407781,  6059.68204594,\n",
       "       11888.51690746, 14686.536578  , 29384.29837813,  7371.36408719,\n",
       "        4761.63324536,  2764.37250998, 31328.0997207 , 10868.45825517,\n",
       "        1386.0460785 , 12286.29221837, 39587.66973919, 14729.52540234,\n",
       "       27116.22109868, 12474.97448014, 29735.26918361,  3093.32471045,\n",
       "        3161.29872631,  9371.5319032 , 28812.84769826, 37607.31993697,\n",
       "       10598.31863876, 10167.10063672, 15666.57189488, 16716.4745968 ,\n",
       "       22927.59431235, 28772.68832613,  6475.05385193,  5672.81039691,\n",
       "        6602.59288923, 31620.78071717, 31040.74230085, 11832.48461557,\n",
       "        3051.322489  , 14948.3368935 , 15330.99608035,  5274.65374345,\n",
       "       27272.26172369, 17128.62190332, 10826.73180697,  4277.66813613,\n",
       "        8184.07642554,  1596.81527674, 13588.60184667, 14548.03521909,\n",
       "        8178.0889511 ,  6239.45611964, 12111.80663996,  6744.86680123,\n",
       "        9852.64343874, 10208.68859082, 14344.34761785, 30212.39249712,\n",
       "       33633.84623217,  4826.95382843, 16600.1563149 , 12707.36631904,\n",
       "       12291.56606962,  4982.46445143,  1621.49564572,  6529.21049007,\n",
       "         228.52666069,  2991.4275842 ,   794.00535334,  9882.05132776,\n",
       "        6282.18703102,  9258.95943984, 13534.63694733,  4796.81497677,\n",
       "        7763.59843011,  4442.68236751,  4968.14713126,  2253.32256676,\n",
       "       11641.16621597,  7489.68795659, 14983.98299164, 25073.09782808,\n",
       "       16330.48880883, 12037.22893367,  1282.73996439, 24624.05047882,\n",
       "       10625.03193295,  1356.68505037, 13545.59810044,  3962.53467319,\n",
       "        6854.23057766,  2645.20780624,  9250.43865278, 14423.98953182,\n",
       "       33082.12167847, 34995.57860626, 10567.80428526, 13201.23987526,\n",
       "       -2150.20485486,  6277.56074422,  1749.99624735,   108.32945893,\n",
       "        8150.90859057, 11212.09818495,  9870.25317056,  6193.96512421,\n",
       "       34554.84838382, 32173.10137612, 10726.07511192,   910.07341721,\n",
       "        5240.52382752, 11893.86779954,  5224.51172573, -1908.28385237,\n",
       "       10593.04255929,  4744.74586836,  2968.7522374 , 33549.36932717,\n",
       "       13997.96020032, 34127.36299001,  9757.26752181, 11313.97118972,\n",
       "        7548.03387476,  6791.33027215, 26888.22088669,  3689.74155306,\n",
       "       39044.59613547,  4163.20591387, 10082.33899767,   590.72427585,\n",
       "       15655.69383689, 37710.70855863, 11524.21216846,  8969.76778267,\n",
       "        2751.1711347 , 10216.44016635,  7948.46951592,  7101.22447077,\n",
       "       11205.73431803, 12182.29665123, 11381.08165826,  5077.1267716 ,\n",
       "        4489.84315467, 10893.10042395, 10040.47393276, 13120.10365009,\n",
       "        8139.83311351,  7732.23242848,  9696.79066141,  4427.30833048,\n",
       "        7217.65254925, 32551.41814479, 39441.21206255,  8281.75730805,\n",
       "         690.75386598,  3059.12094767, 29560.4186892 , -1243.00884443,\n",
       "       17262.85203998,  5286.43408905,  8681.89448821,  8003.42101815,\n",
       "        2621.94503714, 32101.47446604,  5945.52607995, 40098.38700551,\n",
       "       14116.28672064,  7108.90440124,  3298.92389292,  7429.51505032,\n",
       "       34753.56467945,  4027.01669883,  -832.13935259,  8843.94307241,\n",
       "        8423.08061557,  5571.11563979, 17722.71737603, 35893.4551231 ,\n",
       "       36732.20127445,  7338.72338976, 31419.80866468, 12811.50225896,\n",
       "       27874.70802249,  5573.10975081,  8530.61965437,  1071.97076615,\n",
       "       25761.43323599, 11463.42558413,  9086.79745954, 11341.58273855,\n",
       "        8805.81172413, 35642.8178132 , 15394.73660619,  8245.00760991,\n",
       "       33490.41733191,  2447.22789546,  9965.7918966 ,  6097.26535145,\n",
       "       12244.58672409, 14579.53295923,  6618.68151103, 37400.05328835,\n",
       "       10530.48814099, 27058.2679773 , 34337.99505396, 16504.34557075,\n",
       "       13240.34139988, 11192.91992107,  2846.26731633, 26259.86979156,\n",
       "        3632.34938467,  3123.57563559,  7797.27001134,  2289.45980402,\n",
       "       15753.11363888, 15696.26782813,  5289.2908303 , 37510.00998023,\n",
       "       34118.07395302,  2974.77568382, 31890.37345931,  7110.90776053,\n",
       "       27827.23415253, 35439.58911199, 14514.16643236,  3800.4314358 ,\n",
       "       14519.99433617, 13472.95295155,  7536.67274658, 11704.89261441,\n",
       "        8805.28028839, 29535.79554921,  5261.13029936, 33254.71297061,\n",
       "        5804.99123048,  5215.1424581 , 16418.96550973, 11101.79070447,\n",
       "       11412.28150274, 28161.88088183,  6646.41757141,  8555.8250753 ,\n",
       "        3621.35322116, 33571.6533109 ,  7062.78773462,  3266.90168839,\n",
       "        8905.4257558 , 12830.22155188, 13315.86112507, 30047.86166126,\n",
       "        8237.61293012, 12037.02616409,  3893.29518756,  5827.82070345,\n",
       "        5554.85710152, 13550.35692025, 11945.28075374,  7197.06480311,\n",
       "       30328.3571482 ,  9707.31062993, 35176.06959032, 10183.69793259,\n",
       "       39485.78260701,  6515.71037296,  1988.32189552, 17310.9628663 ,\n",
       "       13259.84197257, 13738.12182768,  1834.83321565, 12419.8274353 ,\n",
       "       11298.38028216, 12527.18072285, 40457.48033455, 12798.23217822,\n",
       "        8528.48840906,  3554.23901974, 18349.97808148,  4392.43973055,\n",
       "       11959.46868323,  9012.60856156,  7729.9329296 , 30290.21979013,\n",
       "       23237.75560127, 31817.79906362,  2725.56974943,  9155.81005412,\n",
       "        7736.32240041, 12616.46711237, 14935.73160123,  9259.15498244,\n",
       "       26920.16431655,  8079.36078048, 16052.9987226 , 34271.60689155,\n",
       "        8002.20757289,  6017.96329266, 12038.69081445, 10943.65386679,\n",
       "        7004.76071771, 17705.70004301,  4667.53971916, 32927.67917789,\n",
       "         231.85009426, 34294.58384465, 34504.49904691, 14857.83104894,\n",
       "       14459.43781045, 15008.92448981,  5806.02985789, 27991.80962107,\n",
       "        7076.6740578 ,  8073.98576692,  4947.50787725, 16948.84231423,\n",
       "        6717.43924758, 33241.34301643, 10623.3098623 ,  9470.21487582,\n",
       "        7585.75344616, 37752.62918962,  1877.24466044, 13919.65800343,\n",
       "        9673.63682048,  6750.59725335,  3995.67247084,  5676.83104936,\n",
       "        8845.50841466,  9936.37079726,  9612.19752735, 39782.69019306,\n",
       "       31190.78676848,  8754.85680155, 12690.35440405,  5963.42474665,\n",
       "        3029.89160938, 12750.58198575, 33606.18322415,  -944.32624612,\n",
       "       11104.50937209,  4175.9345648 ])"
      ]
     },
     "execution_count": 310,
     "metadata": {},
     "output_type": "execute_result"
    }
   ],
   "source": [
    "y_predict"
   ]
  },
  {
   "cell_type": "code",
   "execution_count": 317,
   "id": "5e1171f5",
   "metadata": {},
   "outputs": [],
   "source": [
    "#Model Evalution\n",
    "\n",
    "from sklearn.metrics import r2_score,mean_squared_error,mean_absolute_error \n",
    "r2score=r2_score(y_test,y_predict)"
   ]
  },
  {
   "cell_type": "code",
   "execution_count": 318,
   "id": "ce347651",
   "metadata": {},
   "outputs": [
    {
     "data": {
      "text/plain": [
       "0.7602705557035703"
      ]
     },
     "execution_count": 318,
     "metadata": {},
     "output_type": "execute_result"
    }
   ],
   "source": [
    "r2score"
   ]
  },
  {
   "cell_type": "code",
   "execution_count": 319,
   "id": "3b7c9fcb",
   "metadata": {},
   "outputs": [
    {
     "data": {
      "text/plain": [
       "0.7563544303797468"
      ]
     },
     "execution_count": 319,
     "metadata": {},
     "output_type": "execute_result"
    }
   ],
   "source": [
    "adjusted_r2= 1-(((1-0.76)*(402-1))/(402-6-1))\n",
    "adjusted_r2"
   ]
  },
  {
   "cell_type": "code",
   "execution_count": 320,
   "id": "5df0bc0f",
   "metadata": {},
   "outputs": [],
   "source": [
    "ytrain_predict=LR.predict(X_train)"
   ]
  },
  {
   "cell_type": "code",
   "execution_count": 321,
   "id": "b07e11ae",
   "metadata": {},
   "outputs": [
    {
     "data": {
      "text/plain": [
       "0.7453858338552249"
      ]
     },
     "execution_count": 321,
     "metadata": {},
     "output_type": "execute_result"
    }
   ],
   "source": [
    "r2score_train=r2_score(y_train,ytrain_predict)\n",
    "r2score_train"
   ]
  },
  {
   "cell_type": "markdown",
   "id": "1409dd8c",
   "metadata": {},
   "source": [
    "### Applying Decision Tree"
   ]
  },
  {
   "cell_type": "code",
   "execution_count": 322,
   "id": "dff5c9fb",
   "metadata": {},
   "outputs": [
    {
     "data": {
      "text/plain": [
       "array([16115.3045 , 11833.7823 ,  8116.68   ,  5974.3847 ,  7935.29115,\n",
       "        1720.3537 , 11093.6229 , 22462.04375, 27533.9129 ,  1744.465  ,\n",
       "        9447.25035, 39983.42595, 17043.3414 , 11353.2276 ,  9411.005  ,\n",
       "       44641.1974 , 11938.25595, 10965.446  , 32787.45859,  1263.249  ,\n",
       "        1135.9407 , 14043.4767 ,  5373.36425,  4719.52405,  8615.3    ,\n",
       "       23401.30575, 27037.9141 ,  6186.127  , 39983.42595, 10942.13205,\n",
       "        2585.85065,  2128.43105, 14001.1338 ,  4661.28635,  6875.961  ,\n",
       "        2585.85065, 13887.9685 , 10381.4787 ,  5266.3656 ,  1704.5681 ,\n",
       "       10807.4863 , 11013.7119 ,  5246.047  , 20149.3229 , 26140.3603 ,\n",
       "        8062.764  , 21880.82   ,  2217.46915,  9872.701  , 20462.99766,\n",
       "        6555.07035,  3757.8448 , 16450.8947 ,  5003.853  ,  2155.6815 ,\n",
       "        8062.764  , 11163.568  ,  2203.47185,  1727.785  ,  2855.43755,\n",
       "        7265.7025 ,  6875.961  ,  2416.955  , 10355.641  , 28101.33305,\n",
       "       17929.30337,  6710.1919 ,  6555.07035, 10338.9316 , 13462.52   ,\n",
       "       34617.84065,  6393.60345,  4151.0287 ,  3077.0955 , 21348.706  ,\n",
       "        9861.025  ,  2196.4732 , 12925.886  , 47462.894  ,  9504.3103 ,\n",
       "       34838.873  ,  5757.41345, 37079.372  , 14426.07385,  1263.249  ,\n",
       "        5846.9176 , 17496.306  , 46599.1084 ,  9249.4952 ,  9249.4952 ,\n",
       "        8569.8618 , 11856.4115 , 14283.4594 , 17496.306  ,  3201.24515,\n",
       "        1146.7966 ,  5969.723  , 44585.45587, 19964.7463 ,  8347.1643 ,\n",
       "        2523.1695 , 13607.36875, 13607.36875,  3579.8287 , 33900.653  ,\n",
       "        9140.951  ,  4889.9995 ,  1727.54   ,  7742.1098 ,  2709.24395,\n",
       "       10435.06525, 11881.9696 ,  3471.4096 , 18157.876  ,  8527.532  ,\n",
       "        6748.5912 ,  8825.086  ,  4357.04365, 11163.568  , 21098.55405,\n",
       "       24393.6224 ,  2134.9015 , 13470.8044 ,  9866.30485,  8457.818  ,\n",
       "        4618.0799 ,  2150.469  ,  7526.70645,  1842.519  ,  1906.35825,\n",
       "        1632.03625, 21232.18226,  4504.6624 , 17929.30337, 10976.24575,\n",
       "        5484.4673 ,  6770.1925 ,  2020.5523 ,  6555.07035,  1712.227  ,\n",
       "        8347.1643 ,  6196.448  , 13607.36875, 15817.9857 , 13981.85035,\n",
       "       12523.6048 ,  1632.03625, 16297.846  ,  8062.764  ,  1744.465  ,\n",
       "        6356.2707 , 12890.05765,  4266.1658 ,  3766.8838 , 10601.412  ,\n",
       "       11576.13   , 55135.40209, 40941.2854 ,  9630.397  , 11881.358  ,\n",
       "        1704.5681 ,  4618.0799 ,  2866.091  ,  1704.5681 ,  8965.79575,\n",
       "        8280.6227 , 10942.13205,  7144.86265, 21677.28345, 21774.32215,\n",
       "        7050.0213 ,  3392.3652 ,  4058.71245, 28923.13692,  3766.8838 ,\n",
       "        1727.785  ,  6406.4107 ,  4441.21315, 12609.88702, 21195.818  ,\n",
       "       14001.1338 , 24393.6224 ,  6875.961  ,  6358.77645,  5974.3847 ,\n",
       "        4670.64   , 35147.52848,  3847.674  , 45008.9555 ,  3766.8838 ,\n",
       "       14478.33015, 11884.04858, 30063.58055, 27533.9129 , 35160.13457,\n",
       "       30284.64294,  1263.249  ,  7050.0213 , 10197.7722 , 19214.70553,\n",
       "        5699.8375 ,  7731.85785, 11093.6229 ,  2416.955  ,  2727.3951 ,\n",
       "        9957.7216 ,  6571.544  ,  8280.6227 ,  6406.4107 ,  6555.07035,\n",
       "        4504.6624 ,  1631.8212 ,  6500.2359 , 39047.285  , 44260.7499 ,\n",
       "        6186.127  ,  1253.936  ,  2104.1134 , 34806.4677 ,  3167.45585,\n",
       "       14418.2804 ,  4894.7533 , 10791.96   ,  7325.0482 ,  1981.5819 ,\n",
       "       20984.0936 ,  4076.497  , 49577.6624 ,  9872.701  ,  6186.127  ,\n",
       "       21984.47061, 16796.41194, 32787.45859,  4719.52405,  1627.28245,\n",
       "        4357.04365,  8606.2174 ,  3766.8838 , 12105.32   , 42969.8527 ,\n",
       "       28101.33305,  4399.731  , 19964.7463 ,  8765.249  , 18765.87545,\n",
       "        3201.24515,  6770.1925 ,  1708.0014 , 17748.5062 ,  8162.71625,\n",
       "        8688.85885, 10355.641  ,  4266.1658 , 41919.097  , 13143.86485,\n",
       "        6875.961  , 55135.40209, 21984.47061,  7050.0213 ,  3579.8287 ,\n",
       "       12044.342  , 12268.63225,  3736.4647 , 60021.39897,  7682.67   ,\n",
       "       35147.52848, 21774.32215, 14692.66935, 10959.6947 ,  9625.92   ,\n",
       "        1263.249  , 16884.924  ,  4827.90495,  4529.477  ,  5425.02335,\n",
       "        2203.47185, 13607.36875, 14007.222  ,  3161.454  , 44260.7499 ,\n",
       "       39871.7043 ,  2842.76075, 39871.7043 ,  4466.6214 , 36219.40545,\n",
       "       42969.8527 , 11187.6567 ,  5209.57885, 12557.6053 , 12815.44495,\n",
       "        6313.759  , 27346.04207,  9644.2525 , 40904.1995 ,  4340.4409 ,\n",
       "       39722.7462 ,  4399.731  ,  2497.0383 , 11566.30055,  7265.7025 ,\n",
       "       10115.00885, 35595.5898 ,  3393.35635,  6117.4945 ,  2801.2588 ,\n",
       "       39983.42595,  6117.4945 , 22493.65964,  9500.57305, 12129.61415,\n",
       "        5757.41345, 36197.699  ,  6406.4107 , 11881.358  ,  2801.2588 ,\n",
       "       18157.876  , 18157.876  , 12730.9996 , 11286.5387 ,  4889.0368 ,\n",
       "       37133.8982 , 14478.33015, 41661.602  ,  5428.7277 , 46130.5265 ,\n",
       "        4618.0799 ,  2203.47185, 14901.5167 ,  9386.1613 , 11187.6567 ,\n",
       "        1824.2854 , 12224.35085, 30284.64294,  9625.92   , 44641.1974 ,\n",
       "        9140.951  ,  6406.4107 ,  2205.9808 , 14418.2804 ,  1631.8212 ,\n",
       "       10702.6424 ,  3268.84665,  6858.4796 , 37165.1638 , 17663.1442 ,\n",
       "       44585.45587,  3046.062  ,  5969.723  ,  7144.86265, 28468.91901,\n",
       "       12574.049  , 19214.70553, 36397.576  ,  5974.3847 , 12950.0712 ,\n",
       "       39983.42595,  6748.5912 ,  4151.0287 ,  8116.68   ,  8825.086  ,\n",
       "        4751.07   , 14394.5579 ,  7133.9025 , 24520.264  ,  2045.68525,\n",
       "       24667.419  , 32787.45859, 11033.6617 , 28468.91901, 30063.58055,\n",
       "        3292.52985, 36219.40545,  4846.92015,  3392.9768 ,  3227.1211 ,\n",
       "       13470.8044 , 20420.60465, 21978.6769 ,  6770.1925 ,  8232.6388 ,\n",
       "        7144.86265, 63770.42801,  2104.1134 , 13457.9608 ,  6338.0756 ,\n",
       "        4058.71245,  4529.477  ,  4151.0287 ,  6849.026  ,  4889.9995 ,\n",
       "        7537.1639 , 44260.7499 , 21098.55405,  9500.57305, 11657.7189 ,\n",
       "        4234.927  ,  1880.07   , 11657.7189 , 36950.2567 ,  1842.519  ,\n",
       "       35160.13457,  4571.41305])"
      ]
     },
     "execution_count": 322,
     "metadata": {},
     "output_type": "execute_result"
    }
   ],
   "source": [
    "from sklearn.tree import DecisionTreeRegressor         #importing decision tree from sklearn.tree\n",
    "dt=DecisionTreeRegressor()                             #object creation for decision tree  \n",
    "dt.fit(X_train,y_train)                                #training the model\n",
    "y_hat=dt.predict(X_test)                               #prediction\n",
    "y_hat"
   ]
  },
  {
   "cell_type": "code",
   "execution_count": 323,
   "id": "068ff868",
   "metadata": {},
   "outputs": [
    {
     "data": {
      "text/plain": [
       "0.7555132725816613"
      ]
     },
     "execution_count": 323,
     "metadata": {},
     "output_type": "execute_result"
    }
   ],
   "source": [
    "r2score=r2_score(y_test,y_hat)\n",
    "r2score"
   ]
  },
  {
   "cell_type": "code",
   "execution_count": 324,
   "id": "c1f32f6f",
   "metadata": {},
   "outputs": [
    {
     "data": {
      "text/plain": [
       "0.7462025316455696"
      ]
     },
     "execution_count": 324,
     "metadata": {},
     "output_type": "execute_result"
    }
   ],
   "source": [
    "adjusted_r2= 1-(((1-0.75)*(402-1))/(402-6-1))\n",
    "adjusted_r2"
   ]
  },
  {
   "cell_type": "code",
   "execution_count": 325,
   "id": "dd4631f5",
   "metadata": {},
   "outputs": [],
   "source": [
    "ytrain_hat=dt.predict(X_train)"
   ]
  },
  {
   "cell_type": "code",
   "execution_count": 273,
   "id": "41f176b3",
   "metadata": {},
   "outputs": [
    {
     "data": {
      "text/plain": [
       "1.0"
      ]
     },
     "execution_count": 273,
     "metadata": {},
     "output_type": "execute_result"
    }
   ],
   "source": [
    "trainr2score=r2_score(y_train,ytrain_hat)\n",
    "trainr2score"
   ]
  },
  {
   "cell_type": "markdown",
   "id": "2cf9b4c6",
   "metadata": {},
   "source": [
    "By looking at the difference between accuracy score of testing and training, we can deduce that it is overfitting. So, we have opted the Hyperparameter Tuning approach as shown below:"
   ]
  },
  {
   "cell_type": "markdown",
   "id": "7637b9ca",
   "metadata": {},
   "source": [
    "### Hyperparameter Tuning of Decision Tree"
   ]
  },
  {
   "cell_type": "code",
   "execution_count": 81,
   "id": "9ed73049",
   "metadata": {},
   "outputs": [],
   "source": [
    "from sklearn.model_selection import GridSearchCV"
   ]
  },
  {
   "cell_type": "code",
   "execution_count": 340,
   "id": "6b876344",
   "metadata": {},
   "outputs": [
    {
     "name": "stdout",
     "output_type": "stream",
     "text": [
      "Fitting 100 folds for each of 255528 candidates, totalling 25552800 fits\n"
     ]
    },
    {
     "name": "stderr",
     "output_type": "stream",
     "text": [
      "exception calling callback for <Future at 0x2609e27f2e0 state=finished returned list>\n",
      "Traceback (most recent call last):\n",
      "  File \"C:\\ProgramData\\anaconda3\\lib\\site-packages\\joblib\\externals\\loky\\_base.py\", line 625, in _invoke_callbacks\n",
      "    callback(self)\n",
      "  File \"C:\\ProgramData\\anaconda3\\lib\\site-packages\\joblib\\parallel.py\", line 360, in __call__\n",
      "    self.parallel.dispatch_next()\n",
      "  File \"C:\\ProgramData\\anaconda3\\lib\\site-packages\\joblib\\parallel.py\", line 797, in dispatch_next\n",
      "    if not self.dispatch_one_batch(self._original_iterator):\n",
      "  File \"C:\\ProgramData\\anaconda3\\lib\\site-packages\\joblib\\parallel.py\", line 864, in dispatch_one_batch\n",
      "    self._dispatch(tasks)\n",
      "  File \"C:\\ProgramData\\anaconda3\\lib\\site-packages\\joblib\\parallel.py\", line 782, in _dispatch\n",
      "    job = self._backend.apply_async(batch, callback=cb)\n",
      "  File \"C:\\ProgramData\\anaconda3\\lib\\site-packages\\joblib\\_parallel_backends.py\", line 531, in apply_async\n",
      "    future = self._workers.submit(SafeFunction(func))\n",
      "AttributeError: 'NoneType' object has no attribute 'submit'\n",
      "exception calling callback for <Future at 0x25f10a0ad10 state=finished raised PicklingError>\n",
      "Traceback (most recent call last):\n",
      "  File \"C:\\ProgramData\\anaconda3\\lib\\site-packages\\joblib\\externals\\loky\\backend\\queues.py\", line 153, in _feed\n",
      "    obj_ = dumps(obj, reducers=reducers)\n",
      "  File \"C:\\ProgramData\\anaconda3\\lib\\site-packages\\joblib\\externals\\loky\\backend\\reduction.py\", line 271, in dumps\n",
      "    dump(obj, buf, reducers=reducers, protocol=protocol)\n",
      "  File \"C:\\ProgramData\\anaconda3\\lib\\site-packages\\joblib\\externals\\loky\\backend\\reduction.py\", line 264, in dump\n",
      "    _LokyPickler(file, reducers=reducers, protocol=protocol).dump(obj)\n",
      "  File \"C:\\ProgramData\\anaconda3\\lib\\site-packages\\joblib\\externals\\cloudpickle\\cloudpickle_fast.py\", line 602, in dump\n",
      "    return Pickler.dump(self, obj)\n",
      "  File \"C:\\ProgramData\\anaconda3\\lib\\site-packages\\joblib\\parallel.py\", line 268, in __reduce__\n",
      "    self._reducer_callback()\n",
      "  File \"C:\\ProgramData\\anaconda3\\lib\\site-packages\\joblib\\parallel.py\", line 991, in _batched_calls_reducer_callback\n",
      "    self._backend._workers._temp_folder_manager.set_current_context(  # noqa\n",
      "AttributeError: 'NoneType' object has no attribute '_temp_folder_manager'\n",
      "\n",
      "During handling of the above exception, another exception occurred:\n",
      "\n",
      "Traceback (most recent call last):\n",
      "  File \"C:\\ProgramData\\anaconda3\\lib\\site-packages\\joblib\\externals\\loky\\_base.py\", line 625, in _invoke_callbacks\n",
      "    callback(self)\n",
      "  File \"C:\\ProgramData\\anaconda3\\lib\\site-packages\\joblib\\parallel.py\", line 360, in __call__\n",
      "    self.parallel.dispatch_next()\n",
      "  File \"C:\\ProgramData\\anaconda3\\lib\\site-packages\\joblib\\parallel.py\", line 797, in dispatch_next\n",
      "    if not self.dispatch_one_batch(self._original_iterator):\n",
      "  File \"C:\\ProgramData\\anaconda3\\lib\\site-packages\\joblib\\parallel.py\", line 864, in dispatch_one_batch\n",
      "    self._dispatch(tasks)\n",
      "  File \"C:\\ProgramData\\anaconda3\\lib\\site-packages\\joblib\\parallel.py\", line 782, in _dispatch\n",
      "    job = self._backend.apply_async(batch, callback=cb)\n",
      "  File \"C:\\ProgramData\\anaconda3\\lib\\site-packages\\joblib\\_parallel_backends.py\", line 531, in apply_async\n",
      "    future = self._workers.submit(SafeFunction(func))\n",
      "AttributeError: 'NoneType' object has no attribute 'submit'\n",
      "exception calling callback for <Future at 0x25f14955c00 state=finished returned list>\n",
      "Traceback (most recent call last):\n",
      "  File \"C:\\ProgramData\\anaconda3\\lib\\site-packages\\joblib\\externals\\loky\\_base.py\", line 625, in _invoke_callbacks\n",
      "    callback(self)\n",
      "  File \"C:\\ProgramData\\anaconda3\\lib\\site-packages\\joblib\\parallel.py\", line 360, in __call__\n",
      "    self.parallel.dispatch_next()\n",
      "  File \"C:\\ProgramData\\anaconda3\\lib\\site-packages\\joblib\\parallel.py\", line 797, in dispatch_next\n",
      "    if not self.dispatch_one_batch(self._original_iterator):\n",
      "  File \"C:\\ProgramData\\anaconda3\\lib\\site-packages\\joblib\\parallel.py\", line 864, in dispatch_one_batch\n",
      "    self._dispatch(tasks)\n",
      "  File \"C:\\ProgramData\\anaconda3\\lib\\site-packages\\joblib\\parallel.py\", line 782, in _dispatch\n",
      "    job = self._backend.apply_async(batch, callback=cb)\n",
      "  File \"C:\\ProgramData\\anaconda3\\lib\\site-packages\\joblib\\_parallel_backends.py\", line 531, in apply_async\n",
      "    future = self._workers.submit(SafeFunction(func))\n",
      "AttributeError: 'NoneType' object has no attribute 'submit'\n"
     ]
    },
    {
     "ename": "KeyboardInterrupt",
     "evalue": "",
     "output_type": "error",
     "traceback": [
      "\u001b[1;31m---------------------------------------------------------------------------\u001b[0m",
      "\u001b[1;31mKeyboardInterrupt\u001b[0m                         Traceback (most recent call last)",
      "Cell \u001b[1;32mIn[340], line 31\u001b[0m\n\u001b[0;32m     12\u001b[0m tree_cv \u001b[38;5;241m=\u001b[39m GridSearchCV(estimator\u001b[38;5;241m=\u001b[39mtree_clf, param_grid\u001b[38;5;241m=\u001b[39mparams, scoring\u001b[38;5;241m=\u001b[39m\u001b[38;5;124m\"\u001b[39m\u001b[38;5;124mr2\u001b[39m\u001b[38;5;124m\"\u001b[39m, n_jobs\u001b[38;5;241m=\u001b[39m\u001b[38;5;241m-\u001b[39m\u001b[38;5;241m1\u001b[39m, verbose\u001b[38;5;241m=\u001b[39m\u001b[38;5;241m1\u001b[39m, cv\u001b[38;5;241m=\u001b[39m\u001b[38;5;241m100\u001b[39m) \n\u001b[0;32m     13\u001b[0m              \u001b[38;5;66;03m# these are parameters of grid search cv\u001b[39;00m\n\u001b[0;32m     14\u001b[0m \n\u001b[0;32m     15\u001b[0m \n\u001b[1;32m   (...)\u001b[0m\n\u001b[0;32m     25\u001b[0m \u001b[38;5;66;03m#>3 : the fold and candidate parameter indexes are also displayed together with the starting time of the computation.\u001b[39;00m\n\u001b[0;32m     26\u001b[0m \u001b[38;5;66;03m#cv------> number of flods\u001b[39;00m\n\u001b[1;32m---> 31\u001b[0m \u001b[43mtree_cv\u001b[49m\u001b[38;5;241;43m.\u001b[39;49m\u001b[43mfit\u001b[49m\u001b[43m(\u001b[49m\u001b[43mX_train\u001b[49m\u001b[43m,\u001b[49m\u001b[43my_train\u001b[49m\u001b[43m)\u001b[49m\u001b[38;5;66;03m#training data on gridsearch cv\u001b[39;00m\n\u001b[0;32m     32\u001b[0m best_params \u001b[38;5;241m=\u001b[39m tree_cv\u001b[38;5;241m.\u001b[39mbest_params_\u001b[38;5;66;03m#it will give you best parameters \u001b[39;00m\n\u001b[0;32m     33\u001b[0m \u001b[38;5;28mprint\u001b[39m(\u001b[38;5;124mf\u001b[39m\u001b[38;5;124m\"\u001b[39m\u001b[38;5;124mBest paramters: \u001b[39m\u001b[38;5;132;01m{\u001b[39;00mbest_params\u001b[38;5;132;01m}\u001b[39;00m\u001b[38;5;124m)\u001b[39m\u001b[38;5;124m\"\u001b[39m)\n",
      "File \u001b[1;32mC:\\ProgramData\\anaconda3\\lib\\site-packages\\sklearn\\model_selection\\_search.py:874\u001b[0m, in \u001b[0;36mBaseSearchCV.fit\u001b[1;34m(self, X, y, groups, **fit_params)\u001b[0m\n\u001b[0;32m    868\u001b[0m     results \u001b[38;5;241m=\u001b[39m \u001b[38;5;28mself\u001b[39m\u001b[38;5;241m.\u001b[39m_format_results(\n\u001b[0;32m    869\u001b[0m         all_candidate_params, n_splits, all_out, all_more_results\n\u001b[0;32m    870\u001b[0m     )\n\u001b[0;32m    872\u001b[0m     \u001b[38;5;28;01mreturn\u001b[39;00m results\n\u001b[1;32m--> 874\u001b[0m \u001b[38;5;28;43mself\u001b[39;49m\u001b[38;5;241;43m.\u001b[39;49m\u001b[43m_run_search\u001b[49m\u001b[43m(\u001b[49m\u001b[43mevaluate_candidates\u001b[49m\u001b[43m)\u001b[49m\n\u001b[0;32m    876\u001b[0m \u001b[38;5;66;03m# multimetric is determined here because in the case of a callable\u001b[39;00m\n\u001b[0;32m    877\u001b[0m \u001b[38;5;66;03m# self.scoring the return type is only known after calling\u001b[39;00m\n\u001b[0;32m    878\u001b[0m first_test_score \u001b[38;5;241m=\u001b[39m all_out[\u001b[38;5;241m0\u001b[39m][\u001b[38;5;124m\"\u001b[39m\u001b[38;5;124mtest_scores\u001b[39m\u001b[38;5;124m\"\u001b[39m]\n",
      "File \u001b[1;32mC:\\ProgramData\\anaconda3\\lib\\site-packages\\sklearn\\model_selection\\_search.py:1388\u001b[0m, in \u001b[0;36mGridSearchCV._run_search\u001b[1;34m(self, evaluate_candidates)\u001b[0m\n\u001b[0;32m   1386\u001b[0m \u001b[38;5;28;01mdef\u001b[39;00m \u001b[38;5;21m_run_search\u001b[39m(\u001b[38;5;28mself\u001b[39m, evaluate_candidates):\n\u001b[0;32m   1387\u001b[0m     \u001b[38;5;124;03m\"\"\"Search all candidates in param_grid\"\"\"\u001b[39;00m\n\u001b[1;32m-> 1388\u001b[0m     \u001b[43mevaluate_candidates\u001b[49m\u001b[43m(\u001b[49m\u001b[43mParameterGrid\u001b[49m\u001b[43m(\u001b[49m\u001b[38;5;28;43mself\u001b[39;49m\u001b[38;5;241;43m.\u001b[39;49m\u001b[43mparam_grid\u001b[49m\u001b[43m)\u001b[49m\u001b[43m)\u001b[49m\n",
      "File \u001b[1;32mC:\\ProgramData\\anaconda3\\lib\\site-packages\\sklearn\\model_selection\\_search.py:821\u001b[0m, in \u001b[0;36mBaseSearchCV.fit.<locals>.evaluate_candidates\u001b[1;34m(candidate_params, cv, more_results)\u001b[0m\n\u001b[0;32m    813\u001b[0m \u001b[38;5;28;01mif\u001b[39;00m \u001b[38;5;28mself\u001b[39m\u001b[38;5;241m.\u001b[39mverbose \u001b[38;5;241m>\u001b[39m \u001b[38;5;241m0\u001b[39m:\n\u001b[0;32m    814\u001b[0m     \u001b[38;5;28mprint\u001b[39m(\n\u001b[0;32m    815\u001b[0m         \u001b[38;5;124m\"\u001b[39m\u001b[38;5;124mFitting \u001b[39m\u001b[38;5;132;01m{0}\u001b[39;00m\u001b[38;5;124m folds for each of \u001b[39m\u001b[38;5;132;01m{1}\u001b[39;00m\u001b[38;5;124m candidates,\u001b[39m\u001b[38;5;124m\"\u001b[39m\n\u001b[0;32m    816\u001b[0m         \u001b[38;5;124m\"\u001b[39m\u001b[38;5;124m totalling \u001b[39m\u001b[38;5;132;01m{2}\u001b[39;00m\u001b[38;5;124m fits\u001b[39m\u001b[38;5;124m\"\u001b[39m\u001b[38;5;241m.\u001b[39mformat(\n\u001b[0;32m    817\u001b[0m             n_splits, n_candidates, n_candidates \u001b[38;5;241m*\u001b[39m n_splits\n\u001b[0;32m    818\u001b[0m         )\n\u001b[0;32m    819\u001b[0m     )\n\u001b[1;32m--> 821\u001b[0m out \u001b[38;5;241m=\u001b[39m \u001b[43mparallel\u001b[49m\u001b[43m(\u001b[49m\n\u001b[0;32m    822\u001b[0m \u001b[43m    \u001b[49m\u001b[43mdelayed\u001b[49m\u001b[43m(\u001b[49m\u001b[43m_fit_and_score\u001b[49m\u001b[43m)\u001b[49m\u001b[43m(\u001b[49m\n\u001b[0;32m    823\u001b[0m \u001b[43m        \u001b[49m\u001b[43mclone\u001b[49m\u001b[43m(\u001b[49m\u001b[43mbase_estimator\u001b[49m\u001b[43m)\u001b[49m\u001b[43m,\u001b[49m\n\u001b[0;32m    824\u001b[0m \u001b[43m        \u001b[49m\u001b[43mX\u001b[49m\u001b[43m,\u001b[49m\n\u001b[0;32m    825\u001b[0m \u001b[43m        \u001b[49m\u001b[43my\u001b[49m\u001b[43m,\u001b[49m\n\u001b[0;32m    826\u001b[0m \u001b[43m        \u001b[49m\u001b[43mtrain\u001b[49m\u001b[38;5;241;43m=\u001b[39;49m\u001b[43mtrain\u001b[49m\u001b[43m,\u001b[49m\n\u001b[0;32m    827\u001b[0m \u001b[43m        \u001b[49m\u001b[43mtest\u001b[49m\u001b[38;5;241;43m=\u001b[39;49m\u001b[43mtest\u001b[49m\u001b[43m,\u001b[49m\n\u001b[0;32m    828\u001b[0m \u001b[43m        \u001b[49m\u001b[43mparameters\u001b[49m\u001b[38;5;241;43m=\u001b[39;49m\u001b[43mparameters\u001b[49m\u001b[43m,\u001b[49m\n\u001b[0;32m    829\u001b[0m \u001b[43m        \u001b[49m\u001b[43msplit_progress\u001b[49m\u001b[38;5;241;43m=\u001b[39;49m\u001b[43m(\u001b[49m\u001b[43msplit_idx\u001b[49m\u001b[43m,\u001b[49m\u001b[43m \u001b[49m\u001b[43mn_splits\u001b[49m\u001b[43m)\u001b[49m\u001b[43m,\u001b[49m\n\u001b[0;32m    830\u001b[0m \u001b[43m        \u001b[49m\u001b[43mcandidate_progress\u001b[49m\u001b[38;5;241;43m=\u001b[39;49m\u001b[43m(\u001b[49m\u001b[43mcand_idx\u001b[49m\u001b[43m,\u001b[49m\u001b[43m \u001b[49m\u001b[43mn_candidates\u001b[49m\u001b[43m)\u001b[49m\u001b[43m,\u001b[49m\n\u001b[0;32m    831\u001b[0m \u001b[43m        \u001b[49m\u001b[38;5;241;43m*\u001b[39;49m\u001b[38;5;241;43m*\u001b[39;49m\u001b[43mfit_and_score_kwargs\u001b[49m\u001b[43m,\u001b[49m\n\u001b[0;32m    832\u001b[0m \u001b[43m    \u001b[49m\u001b[43m)\u001b[49m\n\u001b[0;32m    833\u001b[0m \u001b[43m    \u001b[49m\u001b[38;5;28;43;01mfor\u001b[39;49;00m\u001b[43m \u001b[49m\u001b[43m(\u001b[49m\u001b[43mcand_idx\u001b[49m\u001b[43m,\u001b[49m\u001b[43m \u001b[49m\u001b[43mparameters\u001b[49m\u001b[43m)\u001b[49m\u001b[43m,\u001b[49m\u001b[43m \u001b[49m\u001b[43m(\u001b[49m\u001b[43msplit_idx\u001b[49m\u001b[43m,\u001b[49m\u001b[43m \u001b[49m\u001b[43m(\u001b[49m\u001b[43mtrain\u001b[49m\u001b[43m,\u001b[49m\u001b[43m \u001b[49m\u001b[43mtest\u001b[49m\u001b[43m)\u001b[49m\u001b[43m)\u001b[49m\u001b[43m \u001b[49m\u001b[38;5;129;43;01min\u001b[39;49;00m\u001b[43m \u001b[49m\u001b[43mproduct\u001b[49m\u001b[43m(\u001b[49m\n\u001b[0;32m    834\u001b[0m \u001b[43m        \u001b[49m\u001b[38;5;28;43menumerate\u001b[39;49m\u001b[43m(\u001b[49m\u001b[43mcandidate_params\u001b[49m\u001b[43m)\u001b[49m\u001b[43m,\u001b[49m\u001b[43m \u001b[49m\u001b[38;5;28;43menumerate\u001b[39;49m\u001b[43m(\u001b[49m\u001b[43mcv\u001b[49m\u001b[38;5;241;43m.\u001b[39;49m\u001b[43msplit\u001b[49m\u001b[43m(\u001b[49m\u001b[43mX\u001b[49m\u001b[43m,\u001b[49m\u001b[43m \u001b[49m\u001b[43my\u001b[49m\u001b[43m,\u001b[49m\u001b[43m \u001b[49m\u001b[43mgroups\u001b[49m\u001b[43m)\u001b[49m\u001b[43m)\u001b[49m\n\u001b[0;32m    835\u001b[0m \u001b[43m    \u001b[49m\u001b[43m)\u001b[49m\n\u001b[0;32m    836\u001b[0m \u001b[43m\u001b[49m\u001b[43m)\u001b[49m\n\u001b[0;32m    838\u001b[0m \u001b[38;5;28;01mif\u001b[39;00m \u001b[38;5;28mlen\u001b[39m(out) \u001b[38;5;241m<\u001b[39m \u001b[38;5;241m1\u001b[39m:\n\u001b[0;32m    839\u001b[0m     \u001b[38;5;28;01mraise\u001b[39;00m \u001b[38;5;167;01mValueError\u001b[39;00m(\n\u001b[0;32m    840\u001b[0m         \u001b[38;5;124m\"\u001b[39m\u001b[38;5;124mNo fits were performed. \u001b[39m\u001b[38;5;124m\"\u001b[39m\n\u001b[0;32m    841\u001b[0m         \u001b[38;5;124m\"\u001b[39m\u001b[38;5;124mWas the CV iterator empty? \u001b[39m\u001b[38;5;124m\"\u001b[39m\n\u001b[0;32m    842\u001b[0m         \u001b[38;5;124m\"\u001b[39m\u001b[38;5;124mWere there no candidates?\u001b[39m\u001b[38;5;124m\"\u001b[39m\n\u001b[0;32m    843\u001b[0m     )\n",
      "File \u001b[1;32mC:\\ProgramData\\anaconda3\\lib\\site-packages\\sklearn\\utils\\parallel.py:63\u001b[0m, in \u001b[0;36mParallel.__call__\u001b[1;34m(self, iterable)\u001b[0m\n\u001b[0;32m     58\u001b[0m config \u001b[38;5;241m=\u001b[39m get_config()\n\u001b[0;32m     59\u001b[0m iterable_with_config \u001b[38;5;241m=\u001b[39m (\n\u001b[0;32m     60\u001b[0m     (_with_config(delayed_func, config), args, kwargs)\n\u001b[0;32m     61\u001b[0m     \u001b[38;5;28;01mfor\u001b[39;00m delayed_func, args, kwargs \u001b[38;5;129;01min\u001b[39;00m iterable\n\u001b[0;32m     62\u001b[0m )\n\u001b[1;32m---> 63\u001b[0m \u001b[38;5;28;01mreturn\u001b[39;00m \u001b[38;5;28;43msuper\u001b[39;49m\u001b[43m(\u001b[49m\u001b[43m)\u001b[49m\u001b[38;5;241;43m.\u001b[39;49m\u001b[38;5;21;43m__call__\u001b[39;49m\u001b[43m(\u001b[49m\u001b[43miterable_with_config\u001b[49m\u001b[43m)\u001b[49m\n",
      "File \u001b[1;32mC:\\ProgramData\\anaconda3\\lib\\site-packages\\joblib\\parallel.py:1061\u001b[0m, in \u001b[0;36mParallel.__call__\u001b[1;34m(self, iterable)\u001b[0m\n\u001b[0;32m   1058\u001b[0m     \u001b[38;5;28mself\u001b[39m\u001b[38;5;241m.\u001b[39m_iterating \u001b[38;5;241m=\u001b[39m \u001b[38;5;28;01mFalse\u001b[39;00m\n\u001b[0;32m   1060\u001b[0m \u001b[38;5;28;01mwith\u001b[39;00m \u001b[38;5;28mself\u001b[39m\u001b[38;5;241m.\u001b[39m_backend\u001b[38;5;241m.\u001b[39mretrieval_context():\n\u001b[1;32m-> 1061\u001b[0m     \u001b[38;5;28;43mself\u001b[39;49m\u001b[38;5;241;43m.\u001b[39;49m\u001b[43mretrieve\u001b[49m\u001b[43m(\u001b[49m\u001b[43m)\u001b[49m\n\u001b[0;32m   1062\u001b[0m \u001b[38;5;66;03m# Make sure that we get a last message telling us we are done\u001b[39;00m\n\u001b[0;32m   1063\u001b[0m elapsed_time \u001b[38;5;241m=\u001b[39m time\u001b[38;5;241m.\u001b[39mtime() \u001b[38;5;241m-\u001b[39m \u001b[38;5;28mself\u001b[39m\u001b[38;5;241m.\u001b[39m_start_time\n",
      "File \u001b[1;32mC:\\ProgramData\\anaconda3\\lib\\site-packages\\joblib\\parallel.py:934\u001b[0m, in \u001b[0;36mParallel.retrieve\u001b[1;34m(self)\u001b[0m\n\u001b[0;32m    930\u001b[0m \u001b[38;5;66;03m# We need to be careful: the job list can be filling up as\u001b[39;00m\n\u001b[0;32m    931\u001b[0m \u001b[38;5;66;03m# we empty it and Python list are not thread-safe by default hence\u001b[39;00m\n\u001b[0;32m    932\u001b[0m \u001b[38;5;66;03m# the use of the lock\u001b[39;00m\n\u001b[0;32m    933\u001b[0m \u001b[38;5;28;01mwith\u001b[39;00m \u001b[38;5;28mself\u001b[39m\u001b[38;5;241m.\u001b[39m_lock:\n\u001b[1;32m--> 934\u001b[0m     job \u001b[38;5;241m=\u001b[39m \u001b[38;5;28;43mself\u001b[39;49m\u001b[38;5;241;43m.\u001b[39;49m\u001b[43m_jobs\u001b[49m\u001b[38;5;241;43m.\u001b[39;49m\u001b[43mpop\u001b[49m\u001b[43m(\u001b[49m\u001b[38;5;241;43m0\u001b[39;49m\u001b[43m)\u001b[49m\n\u001b[0;32m    936\u001b[0m \u001b[38;5;28;01mtry\u001b[39;00m:\n\u001b[0;32m    937\u001b[0m     \u001b[38;5;28;01mif\u001b[39;00m \u001b[38;5;28mgetattr\u001b[39m(\u001b[38;5;28mself\u001b[39m\u001b[38;5;241m.\u001b[39m_backend, \u001b[38;5;124m'\u001b[39m\u001b[38;5;124msupports_timeout\u001b[39m\u001b[38;5;124m'\u001b[39m, \u001b[38;5;28;01mFalse\u001b[39;00m):\n",
      "\u001b[1;31mKeyboardInterrupt\u001b[0m: "
     ]
    },
    {
     "name": "stderr",
     "output_type": "stream",
     "text": [
      "exception calling callback for <Future at 0x25f148c7850 state=finished raised PicklingError>\n",
      "Traceback (most recent call last):\n",
      "  File \"C:\\ProgramData\\anaconda3\\lib\\site-packages\\joblib\\externals\\loky\\backend\\queues.py\", line 153, in _feed\n",
      "    obj_ = dumps(obj, reducers=reducers)\n",
      "  File \"C:\\ProgramData\\anaconda3\\lib\\site-packages\\joblib\\externals\\loky\\backend\\reduction.py\", line 271, in dumps\n",
      "    dump(obj, buf, reducers=reducers, protocol=protocol)\n",
      "  File \"C:\\ProgramData\\anaconda3\\lib\\site-packages\\joblib\\externals\\loky\\backend\\reduction.py\", line 264, in dump\n",
      "    _LokyPickler(file, reducers=reducers, protocol=protocol).dump(obj)\n",
      "  File \"C:\\ProgramData\\anaconda3\\lib\\site-packages\\joblib\\externals\\cloudpickle\\cloudpickle_fast.py\", line 602, in dump\n",
      "    return Pickler.dump(self, obj)\n",
      "  File \"C:\\ProgramData\\anaconda3\\lib\\site-packages\\joblib\\parallel.py\", line 268, in __reduce__\n",
      "    self._reducer_callback()\n",
      "  File \"C:\\ProgramData\\anaconda3\\lib\\site-packages\\joblib\\parallel.py\", line 991, in _batched_calls_reducer_callback\n",
      "    self._backend._workers._temp_folder_manager.set_current_context(  # noqa\n",
      "AttributeError: 'NoneType' object has no attribute '_temp_folder_manager'\n",
      "\n",
      "During handling of the above exception, another exception occurred:\n",
      "\n",
      "Traceback (most recent call last):\n",
      "  File \"C:\\ProgramData\\anaconda3\\lib\\site-packages\\joblib\\externals\\loky\\_base.py\", line 625, in _invoke_callbacks\n",
      "    callback(self)\n",
      "  File \"C:\\ProgramData\\anaconda3\\lib\\site-packages\\joblib\\parallel.py\", line 360, in __call__\n",
      "    self.parallel.dispatch_next()\n",
      "  File \"C:\\ProgramData\\anaconda3\\lib\\site-packages\\joblib\\parallel.py\", line 797, in dispatch_next\n",
      "    if not self.dispatch_one_batch(self._original_iterator):\n",
      "  File \"C:\\ProgramData\\anaconda3\\lib\\site-packages\\joblib\\parallel.py\", line 864, in dispatch_one_batch\n",
      "    self._dispatch(tasks)\n",
      "  File \"C:\\ProgramData\\anaconda3\\lib\\site-packages\\joblib\\parallel.py\", line 782, in _dispatch\n",
      "    job = self._backend.apply_async(batch, callback=cb)\n",
      "  File \"C:\\ProgramData\\anaconda3\\lib\\site-packages\\joblib\\_parallel_backends.py\", line 531, in apply_async\n",
      "    future = self._workers.submit(SafeFunction(func))\n",
      "AttributeError: 'NoneType' object has no attribute 'submit'\n",
      "exception calling callback for <Future at 0x25f172e1d80 state=finished returned list>\n",
      "Traceback (most recent call last):\n",
      "  File \"C:\\ProgramData\\anaconda3\\lib\\site-packages\\joblib\\externals\\loky\\_base.py\", line 625, in _invoke_callbacks\n",
      "    callback(self)\n",
      "  File \"C:\\ProgramData\\anaconda3\\lib\\site-packages\\joblib\\parallel.py\", line 360, in __call__\n",
      "    self.parallel.dispatch_next()\n",
      "  File \"C:\\ProgramData\\anaconda3\\lib\\site-packages\\joblib\\parallel.py\", line 797, in dispatch_next\n",
      "    if not self.dispatch_one_batch(self._original_iterator):\n",
      "  File \"C:\\ProgramData\\anaconda3\\lib\\site-packages\\joblib\\parallel.py\", line 864, in dispatch_one_batch\n",
      "    self._dispatch(tasks)\n",
      "  File \"C:\\ProgramData\\anaconda3\\lib\\site-packages\\joblib\\parallel.py\", line 782, in _dispatch\n",
      "    job = self._backend.apply_async(batch, callback=cb)\n",
      "  File \"C:\\ProgramData\\anaconda3\\lib\\site-packages\\joblib\\_parallel_backends.py\", line 531, in apply_async\n",
      "    future = self._workers.submit(SafeFunction(func))\n",
      "AttributeError: 'NoneType' object has no attribute 'submit'\n",
      "exception calling callback for <Future at 0x25f172e11b0 state=finished raised PicklingError>\n",
      "Traceback (most recent call last):\n",
      "  File \"C:\\ProgramData\\anaconda3\\lib\\site-packages\\joblib\\externals\\loky\\backend\\queues.py\", line 153, in _feed\n",
      "    obj_ = dumps(obj, reducers=reducers)\n",
      "  File \"C:\\ProgramData\\anaconda3\\lib\\site-packages\\joblib\\externals\\loky\\backend\\reduction.py\", line 271, in dumps\n",
      "    dump(obj, buf, reducers=reducers, protocol=protocol)\n",
      "  File \"C:\\ProgramData\\anaconda3\\lib\\site-packages\\joblib\\externals\\loky\\backend\\reduction.py\", line 264, in dump\n",
      "    _LokyPickler(file, reducers=reducers, protocol=protocol).dump(obj)\n",
      "  File \"C:\\ProgramData\\anaconda3\\lib\\site-packages\\joblib\\externals\\cloudpickle\\cloudpickle_fast.py\", line 602, in dump\n",
      "    return Pickler.dump(self, obj)\n",
      "  File \"C:\\ProgramData\\anaconda3\\lib\\site-packages\\joblib\\parallel.py\", line 268, in __reduce__\n",
      "    self._reducer_callback()\n",
      "  File \"C:\\ProgramData\\anaconda3\\lib\\site-packages\\joblib\\parallel.py\", line 991, in _batched_calls_reducer_callback\n",
      "    self._backend._workers._temp_folder_manager.set_current_context(  # noqa\n",
      "AttributeError: 'NoneType' object has no attribute '_temp_folder_manager'\n",
      "\n",
      "During handling of the above exception, another exception occurred:\n",
      "\n",
      "Traceback (most recent call last):\n",
      "  File \"C:\\ProgramData\\anaconda3\\lib\\site-packages\\joblib\\externals\\loky\\_base.py\", line 625, in _invoke_callbacks\n",
      "    callback(self)\n",
      "  File \"C:\\ProgramData\\anaconda3\\lib\\site-packages\\joblib\\parallel.py\", line 360, in __call__\n",
      "    self.parallel.dispatch_next()\n",
      "  File \"C:\\ProgramData\\anaconda3\\lib\\site-packages\\joblib\\parallel.py\", line 797, in dispatch_next\n",
      "    if not self.dispatch_one_batch(self._original_iterator):\n",
      "  File \"C:\\ProgramData\\anaconda3\\lib\\site-packages\\joblib\\parallel.py\", line 864, in dispatch_one_batch\n",
      "    self._dispatch(tasks)\n",
      "  File \"C:\\ProgramData\\anaconda3\\lib\\site-packages\\joblib\\parallel.py\", line 782, in _dispatch\n",
      "    job = self._backend.apply_async(batch, callback=cb)\n",
      "  File \"C:\\ProgramData\\anaconda3\\lib\\site-packages\\joblib\\_parallel_backends.py\", line 531, in apply_async\n",
      "    future = self._workers.submit(SafeFunction(func))\n",
      "AttributeError: 'NoneType' object has no attribute 'submit'\n"
     ]
    }
   ],
   "source": [
    "params = {\n",
    "    \"criterion\":(\"gini\", \"friedman_mse\", \"squared_error\", \"absolute_error\"), #quality of split\n",
    "    \"splitter\":(\"best\", \"random\"), # searches the features for a split\n",
    "    \"max_depth\":(list(range(1, 40))), #depth of tree range from 1 to 19\n",
    "    \"min_samples_split\":[2, 3, 4,6,8,10,12],    #the minimum number of samples required to split internal node\n",
    "    \"min_samples_leaf\":list(range(1, 40)),#minimum number of samples required to be at a leaf node,we are passing list which is range from 1 to 19 \n",
    "    \"max_features\": (\"auto\",\"sqrt\",\"log2\"), #The number of features to consider when looking for the best split\n",
    "}\n",
    "\n",
    "\n",
    "tree_clf = DecisionTreeRegressor(random_state=3)#object creation for decision tree with random state 3\n",
    "tree_cv = GridSearchCV(estimator=tree_clf, param_grid=params, scoring=\"r2\", n_jobs=-1, verbose=1, cv=10) \n",
    "             # these are parameters of grid search cv\n",
    "\n",
    "\n",
    "\n",
    "#passing model to gridsearchCV ,\n",
    "#tree_clf-->model\n",
    "#params---->hyperparametes(dictionary we created)\n",
    "#scoring--->performance matrix to check performance\n",
    "#n_jobs---->Number of jobs to run in parallel,-1 means using all processors.\n",
    "#verbose=Controls the verbosity: the higher, the more messages.\n",
    "#>1 : the computation time for each fold and parameter candidate is displayed;\n",
    "#>2 : the score is also displayed;\n",
    "#>3 : the fold and candidate parameter indexes are also displayed together with the starting time of the computation.\n",
    "#cv------> number of flods\n",
    "\n",
    "\n",
    "\n",
    "\n",
    "tree_cv.fit(X_train,y_train)#training data on gridsearch cv\n",
    "best_params = tree_cv.best_params_#it will give you best parameters \n",
    "print(f\"Best paramters: {best_params})\")#printing  best parameters\n",
    "\n"
   ]
  },
  {
   "cell_type": "code",
   "execution_count": null,
   "id": "9abb513b",
   "metadata": {},
   "outputs": [],
   "source": [
    "Bestparamters: ({'criterion': 'friedman_mse', 'max_depth': 4, 'min_samples_leaf': 13, 'min_samples_split': 2, 'splitter': 'best'})\n"
   ]
  },
  {
   "cell_type": "code",
   "execution_count": 86,
   "id": "cd98d20c",
   "metadata": {},
   "outputs": [
    {
     "data": {
      "text/plain": [
       "{'criterion': 'friedman_mse',\n",
       " 'max_depth': 4,\n",
       " 'min_samples_leaf': 13,\n",
       " 'min_samples_split': 2,\n",
       " 'splitter': 'best'}"
      ]
     },
     "execution_count": 86,
     "metadata": {},
     "output_type": "execute_result"
    }
   ],
   "source": [
    "tree_cv.best_params_"
   ]
  },
  {
   "cell_type": "code",
   "execution_count": 328,
   "id": "a3937ae0",
   "metadata": {},
   "outputs": [],
   "source": [
    "dt1=DecisionTreeRegressor(criterion='absolute_error', max_depth=6, min_samples_leaf= 10, min_samples_split=2, max_features= 'auto', splitter='best')"
   ]
  },
  {
   "cell_type": "code",
   "execution_count": 329,
   "id": "c2c415fb",
   "metadata": {},
   "outputs": [
    {
     "data": {
      "text/html": [
       "<style>#sk-container-id-24 {color: black;background-color: white;}#sk-container-id-24 pre{padding: 0;}#sk-container-id-24 div.sk-toggleable {background-color: white;}#sk-container-id-24 label.sk-toggleable__label {cursor: pointer;display: block;width: 100%;margin-bottom: 0;padding: 0.3em;box-sizing: border-box;text-align: center;}#sk-container-id-24 label.sk-toggleable__label-arrow:before {content: \"▸\";float: left;margin-right: 0.25em;color: #696969;}#sk-container-id-24 label.sk-toggleable__label-arrow:hover:before {color: black;}#sk-container-id-24 div.sk-estimator:hover label.sk-toggleable__label-arrow:before {color: black;}#sk-container-id-24 div.sk-toggleable__content {max-height: 0;max-width: 0;overflow: hidden;text-align: left;background-color: #f0f8ff;}#sk-container-id-24 div.sk-toggleable__content pre {margin: 0.2em;color: black;border-radius: 0.25em;background-color: #f0f8ff;}#sk-container-id-24 input.sk-toggleable__control:checked~div.sk-toggleable__content {max-height: 200px;max-width: 100%;overflow: auto;}#sk-container-id-24 input.sk-toggleable__control:checked~label.sk-toggleable__label-arrow:before {content: \"▾\";}#sk-container-id-24 div.sk-estimator input.sk-toggleable__control:checked~label.sk-toggleable__label {background-color: #d4ebff;}#sk-container-id-24 div.sk-label input.sk-toggleable__control:checked~label.sk-toggleable__label {background-color: #d4ebff;}#sk-container-id-24 input.sk-hidden--visually {border: 0;clip: rect(1px 1px 1px 1px);clip: rect(1px, 1px, 1px, 1px);height: 1px;margin: -1px;overflow: hidden;padding: 0;position: absolute;width: 1px;}#sk-container-id-24 div.sk-estimator {font-family: monospace;background-color: #f0f8ff;border: 1px dotted black;border-radius: 0.25em;box-sizing: border-box;margin-bottom: 0.5em;}#sk-container-id-24 div.sk-estimator:hover {background-color: #d4ebff;}#sk-container-id-24 div.sk-parallel-item::after {content: \"\";width: 100%;border-bottom: 1px solid gray;flex-grow: 1;}#sk-container-id-24 div.sk-label:hover label.sk-toggleable__label {background-color: #d4ebff;}#sk-container-id-24 div.sk-serial::before {content: \"\";position: absolute;border-left: 1px solid gray;box-sizing: border-box;top: 0;bottom: 0;left: 50%;z-index: 0;}#sk-container-id-24 div.sk-serial {display: flex;flex-direction: column;align-items: center;background-color: white;padding-right: 0.2em;padding-left: 0.2em;position: relative;}#sk-container-id-24 div.sk-item {position: relative;z-index: 1;}#sk-container-id-24 div.sk-parallel {display: flex;align-items: stretch;justify-content: center;background-color: white;position: relative;}#sk-container-id-24 div.sk-item::before, #sk-container-id-24 div.sk-parallel-item::before {content: \"\";position: absolute;border-left: 1px solid gray;box-sizing: border-box;top: 0;bottom: 0;left: 50%;z-index: -1;}#sk-container-id-24 div.sk-parallel-item {display: flex;flex-direction: column;z-index: 1;position: relative;background-color: white;}#sk-container-id-24 div.sk-parallel-item:first-child::after {align-self: flex-end;width: 50%;}#sk-container-id-24 div.sk-parallel-item:last-child::after {align-self: flex-start;width: 50%;}#sk-container-id-24 div.sk-parallel-item:only-child::after {width: 0;}#sk-container-id-24 div.sk-dashed-wrapped {border: 1px dashed gray;margin: 0 0.4em 0.5em 0.4em;box-sizing: border-box;padding-bottom: 0.4em;background-color: white;}#sk-container-id-24 div.sk-label label {font-family: monospace;font-weight: bold;display: inline-block;line-height: 1.2em;}#sk-container-id-24 div.sk-label-container {text-align: center;}#sk-container-id-24 div.sk-container {/* jupyter's `normalize.less` sets `[hidden] { display: none; }` but bootstrap.min.css set `[hidden] { display: none !important; }` so we also need the `!important` here to be able to override the default hidden behavior on the sphinx rendered scikit-learn.org. See: https://github.com/scikit-learn/scikit-learn/issues/21755 */display: inline-block !important;position: relative;}#sk-container-id-24 div.sk-text-repr-fallback {display: none;}</style><div id=\"sk-container-id-24\" class=\"sk-top-container\"><div class=\"sk-text-repr-fallback\"><pre>DecisionTreeRegressor(criterion=&#x27;absolute_error&#x27;, max_depth=6,\n",
       "                      max_features=&#x27;auto&#x27;, min_samples_leaf=10)</pre><b>In a Jupyter environment, please rerun this cell to show the HTML representation or trust the notebook. <br />On GitHub, the HTML representation is unable to render, please try loading this page with nbviewer.org.</b></div><div class=\"sk-container\" hidden><div class=\"sk-item\"><div class=\"sk-estimator sk-toggleable\"><input class=\"sk-toggleable__control sk-hidden--visually\" id=\"sk-estimator-id-48\" type=\"checkbox\" checked><label for=\"sk-estimator-id-48\" class=\"sk-toggleable__label sk-toggleable__label-arrow\">DecisionTreeRegressor</label><div class=\"sk-toggleable__content\"><pre>DecisionTreeRegressor(criterion=&#x27;absolute_error&#x27;, max_depth=6,\n",
       "                      max_features=&#x27;auto&#x27;, min_samples_leaf=10)</pre></div></div></div></div></div>"
      ],
      "text/plain": [
       "DecisionTreeRegressor(criterion='absolute_error', max_depth=6,\n",
       "                      max_features='auto', min_samples_leaf=10)"
      ]
     },
     "execution_count": 329,
     "metadata": {},
     "output_type": "execute_result"
    }
   ],
   "source": [
    "dt1.fit(X_train,y_train)#traing model with best parameter"
   ]
  },
  {
   "cell_type": "code",
   "execution_count": 330,
   "id": "11d12444",
   "metadata": {
    "collapsed": true
   },
   "outputs": [
    {
     "data": {
      "text/plain": [
       "array([14859.161625, 11837.278675,  8899.66275 ,  6282.235   ,\n",
       "        8232.6388  ,  1682.597   , 10797.3362  , 20234.85475 ,\n",
       "       27285.9135  ,  2138.0707  ,  9549.5651  , 37742.5757  ,\n",
       "       16964.1327  , 11837.278675,  9095.06825 , 48361.269675,\n",
       "       11837.278675, 11837.278675, 27285.9135  ,  1682.597   ,\n",
       "        1682.597   , 13844.7972  ,  5003.31785 ,  4194.077625,\n",
       "        8518.4275  , 23568.272   , 27285.9135  ,  6282.235   ,\n",
       "       37742.5757  , 10797.3362  ,  2138.0707  ,  1682.597   ,\n",
       "       14004.1779  ,  3511.017   ,  7706.157875,  2138.0707  ,\n",
       "       13844.7972  , 10075.2348  ,  5003.31785 ,  1682.597   ,\n",
       "       10797.3362  , 12094.478   ,  5003.31785 , 20234.85475 ,\n",
       "        9549.5651  ,  9549.5651  , 23568.272   ,  2138.0707  ,\n",
       "        9549.5651  , 12490.545875,  5003.31785 ,  4194.077625,\n",
       "       16964.1327  ,  5003.31785 ,  2138.0707  ,  8899.66275 ,\n",
       "       12490.545875,  2138.0707  ,  2138.0707  ,  3213.62205 ,\n",
       "        7706.157875,  7706.157875,  2495.53015 , 12094.478   ,\n",
       "       27285.9135  ,  8232.6388  ,  6551.7501  ,  5003.31785 ,\n",
       "       10797.3362  , 13844.7972  , 35207.115   ,  6282.235   ,\n",
       "        4194.077625,  3511.017   , 23568.272   , 10075.2348  ,\n",
       "        2138.0707  , 14004.1779  , 48361.269675, 10797.3362  ,\n",
       "       34101.9101  ,  6282.235   , 37742.5757  ,  3511.017   ,\n",
       "        1682.597   ,  6551.7501  , 20234.85475 , 48361.269675,\n",
       "        9549.5651  ,  9549.5651  ,  8899.66275 , 11837.278675,\n",
       "       14859.161625, 20234.85475 ,  3471.4096  ,  1682.597   ,\n",
       "        6282.235   , 41440.8368  , 21241.526875,  7421.19455 ,\n",
       "        2495.53015 , 12490.545875, 12490.545875,  4532.92545 ,\n",
       "       34101.9101  , 10797.3362  ,  6551.7501  ,  1682.597   ,\n",
       "        7421.19455 ,  2138.0707  , 10797.3362  , 12490.545875,\n",
       "        4194.077625,  4720.01275 ,  7421.19455 ,  6551.7501  ,\n",
       "        8518.4275  ,  4194.077625, 12490.545875, 21241.526875,\n",
       "       21241.526875,  2138.0707  , 13844.7972  ,  8899.66275 ,\n",
       "        9549.5651  ,  3511.017   ,  2138.0707  ,  8232.6388  ,\n",
       "        1682.597   ,  1682.597   ,  1682.597   ,  8899.66275 ,\n",
       "        4532.92545 ,  8232.6388  , 10797.3362  ,  6282.235   ,\n",
       "        6282.235   ,  2138.0707  ,  5003.31785 ,  1682.597   ,\n",
       "        8518.4275  ,  6551.7501  , 12094.478   , 14859.161625,\n",
       "       13844.7972  , 12736.083525,  1682.597   , 16964.1327  ,\n",
       "        9549.5651  ,  2138.0707  ,  6551.7501  ,  1682.597   ,\n",
       "        4720.01275 ,  3213.62205 , 10797.3362  , 11837.278675,\n",
       "       41440.8368  , 41301.4437  , 10075.2348  , 12094.478   ,\n",
       "        1682.597   ,  4532.92545 ,  4194.077625,  1682.597   ,\n",
       "        6551.7501  ,  9549.5651  , 10797.3362  ,  6551.7501  ,\n",
       "       21241.526875, 23568.272   ,  6282.235   ,  3213.62205 ,\n",
       "        4532.92545 , 12736.083525,  3471.4096  ,  2138.0707  ,\n",
       "        6282.235   ,  4194.077625,  2495.53015 , 27285.9135  ,\n",
       "       14004.1779  , 21241.526875,  7706.157875,  6282.235   ,\n",
       "        6282.235   ,  4720.01275 , 18278.61875 ,  5268.48955 ,\n",
       "       44260.7499  ,  3471.4096  ,  8518.4275  ,  3511.017   ,\n",
       "       12490.545875, 27285.9135  , 10797.3362  ,  8899.66275 ,\n",
       "        1682.597   ,  6282.235   , 10797.3362  ,  6282.235   ,\n",
       "        6282.235   ,  7421.19455 , 10797.3362  ,  2495.53015 ,\n",
       "        2495.53015 ,  8899.66275 ,  6551.7501  ,  8899.66275 ,\n",
       "        5003.31785 ,  6282.235   ,  3511.017   ,  2138.0707  ,\n",
       "        6282.235   , 41440.8368  , 44260.7499  ,  6282.235   ,\n",
       "        1682.597   ,  1682.597   , 34101.9101  ,  2138.0707  ,\n",
       "       14004.1779  ,  5003.31785 , 10797.3362  ,  7421.19455 ,\n",
       "        2495.53015 , 18608.262   ,  4194.077625, 48361.269675,\n",
       "        9549.5651  ,  6282.235   ,  5003.31785 ,  4194.077625,\n",
       "       23568.272   ,  3471.4096  ,  1682.597   ,  4194.077625,\n",
       "        9095.06825 ,  3213.62205 , 12490.545875, 41301.4437  ,\n",
       "       27285.9135  ,  5003.31785 , 21241.526875,  9549.5651  ,\n",
       "       18608.262   ,  3471.4096  ,  6282.235   ,  1682.597   ,\n",
       "       18278.61875 ,  6551.7501  ,  8899.66275 , 12094.478   ,\n",
       "        4720.01275 , 41301.4437  , 12736.083525,  7706.157875,\n",
       "       41440.8368  ,  5003.31785 ,  6282.235   ,  3511.017   ,\n",
       "       11837.278675, 12490.545875,  3471.4096  , 48361.269675,\n",
       "        7706.157875, 18278.61875 , 23568.272   , 13844.7972  ,\n",
       "       10797.3362  , 10797.3362  ,  1682.597   , 16964.1327  ,\n",
       "        4532.92545 ,  5268.48955 ,  5268.48955 ,  2138.0707  ,\n",
       "       12490.545875, 14004.1779  ,  3471.4096  , 44260.7499  ,\n",
       "       41440.8368  ,  3213.62205 , 41440.8368  ,  3511.017   ,\n",
       "       38344.566   , 41301.4437  , 12490.545875,  5268.48955 ,\n",
       "       12736.083525, 12736.083525,  6551.7501  , 10797.3362  ,\n",
       "        9549.5651  , 38344.566   ,  5268.48955 , 38344.566   ,\n",
       "        5003.31785 ,  2495.53015 , 11837.278675,  7706.157875,\n",
       "       10651.59535 , 34101.9101  ,  4532.92545 ,  6282.235   ,\n",
       "        3511.017   , 37742.5757  ,  6282.235   ,  4532.92545 ,\n",
       "        9095.06825 , 12736.083525,  6282.235   , 41440.8368  ,\n",
       "        5003.31785 , 12094.478   ,  4532.92545 ,  5268.48955 ,\n",
       "        3511.017   , 12736.083525, 10797.3362  ,  5003.31785 ,\n",
       "       38344.566   ,  8518.4275  , 41301.4437  ,  5268.48955 ,\n",
       "       44260.7499  ,  4720.01275 ,  2138.0707  , 13844.7972  ,\n",
       "       10651.59535 , 12490.545875,  2495.53015 , 11837.278675,\n",
       "       10651.59535 , 10797.3362  , 48361.269675, 10797.3362  ,\n",
       "        5003.31785 ,  2138.0707  , 15362.628875,  2138.0707  ,\n",
       "       10651.59535 ,  4194.077625,  6282.235   , 38344.566   ,\n",
       "       14859.161625, 41440.8368  ,  3213.62205 ,  6282.235   ,\n",
       "        6551.7501  ,  9549.5651  , 12736.083525,  6282.235   ,\n",
       "       35207.115   ,  6282.235   , 12736.083525, 37742.5757  ,\n",
       "        6551.7501  ,  4194.077625,  8899.66275 ,  8518.4275  ,\n",
       "        5003.31785 , 13844.7972  ,  6551.7501  , 21241.526875,\n",
       "        1682.597   , 21241.526875, 23568.272   , 10651.59535 ,\n",
       "       10075.2348  , 12490.545875,  2495.53015 , 38344.566   ,\n",
       "        4532.92545 ,  3213.62205 ,  3213.62205 , 13844.7972  ,\n",
       "        6282.235   , 23568.272   ,  6282.235   ,  8232.6388  ,\n",
       "        6551.7501  , 44049.51495 ,  1682.597   , 13844.7972  ,\n",
       "        6551.7501  ,  4720.01275 ,  4720.01275 ,  4194.077625,\n",
       "        7421.19455 ,  6551.7501  ,  6551.7501  , 44260.7499  ,\n",
       "       21241.526875,  9095.06825 , 10797.3362  ,  3511.017   ,\n",
       "        2138.0707  , 10797.3362  , 41440.8368  ,  1682.597   ,\n",
       "       12094.478   ,  5003.31785 ])"
      ]
     },
     "execution_count": 330,
     "metadata": {},
     "output_type": "execute_result"
    }
   ],
   "source": [
    "y_hat1=dt1.predict(X_test)#predicting\n",
    "y_hat1"
   ]
  },
  {
   "cell_type": "code",
   "execution_count": 331,
   "id": "c6740b57",
   "metadata": {},
   "outputs": [
    {
     "data": {
      "text/plain": [
       "0.8723745456536718"
      ]
     },
     "execution_count": 331,
     "metadata": {},
     "output_type": "execute_result"
    }
   ],
   "source": [
    "_r2score=r2_score(y_test,y_hat1)\n",
    "_r2score"
   ]
  },
  {
   "cell_type": "code",
   "execution_count": 333,
   "id": "49cca596",
   "metadata": {},
   "outputs": [
    {
     "data": {
      "text/plain": [
       "0.8703602531645569"
      ]
     },
     "execution_count": 333,
     "metadata": {},
     "output_type": "execute_result"
    }
   ],
   "source": [
    "adjusted_r2score= 1-(((1-0.8723)*(402-1))/(402-6-1))\n",
    "adjusted_r2score"
   ]
  },
  {
   "cell_type": "code",
   "execution_count": 334,
   "id": "86814379",
   "metadata": {},
   "outputs": [],
   "source": [
    "ytrain_hat1=dt1.predict(X_train)"
   ]
  },
  {
   "cell_type": "code",
   "execution_count": 335,
   "id": "09c237d3",
   "metadata": {},
   "outputs": [
    {
     "data": {
      "text/plain": [
       "0.858180724059602"
      ]
     },
     "execution_count": 335,
     "metadata": {},
     "output_type": "execute_result"
    }
   ],
   "source": [
    "trainr2score1=r2_score(y_train,ytrain_hat1)\n",
    "trainr2score1"
   ]
  },
  {
   "cell_type": "markdown",
   "id": "398afc16",
   "metadata": {},
   "source": [
    "### Applying Random Forest"
   ]
  },
  {
   "cell_type": "code",
   "execution_count": 48,
   "id": "2a004f6c",
   "metadata": {},
   "outputs": [],
   "source": [
    "from sklearn.ensemble import RandomForestRegressor#importing randomforest\n",
    "\n",
    "rf = RandomForestRegressor(n_estimators=100)#object creation ,taking 100 decision tree in random forest \n",
    "rf.fit(X_train,y_train)\n",
    "y_pred=rf.predict(X_test)"
   ]
  },
  {
   "cell_type": "code",
   "execution_count": 49,
   "id": "b9855700",
   "metadata": {
    "collapsed": true
   },
   "outputs": [
    {
     "data": {
      "text/plain": [
       "array([16140.918806 , 12635.0701171,  9758.1241143, 12701.5787225,\n",
       "        9140.2910101,  1831.8147648, 11021.3030535, 21759.8542442,\n",
       "       28356.056119 ,  1844.891081 , 14169.5065684, 39688.6813372,\n",
       "       19327.9514909, 11416.549021 , 10237.5357626, 46608.9939709,\n",
       "       13121.0262027, 11156.321684 , 29842.2867435,  1322.913298 ,\n",
       "        1808.594589 , 13912.5858935,  6221.6365677,  5139.4800991,\n",
       "       10144.5073558, 22562.376002 , 27406.636465 ,  6476.2706375,\n",
       "       39124.9290686, 15149.2230503,  2694.5309714,  1898.6567069,\n",
       "       14595.7498184, 10910.5292957,  7222.7434155,  3679.6930905,\n",
       "       13419.343963 ,  9694.46918  ,  5152.057621 ,  1812.3317708,\n",
       "       12189.3359756, 16898.6449729,  5211.4496165, 21026.8455389,\n",
       "       16566.1399169, 11674.6207257, 23118.5496765,  3504.697127 ,\n",
       "       10011.3154162, 12667.329833 ,  5552.7980778,  3760.8092165,\n",
       "       19501.0474481,  5100.1036917,  2128.52637  , 10929.0362359,\n",
       "       11429.9669626,  2208.512303 ,  1737.3661805,  4293.8013793,\n",
       "        7685.6221859,  7558.5041277,  3718.9654081, 19473.7217229,\n",
       "       27538.702727 , 11225.1947615,  8000.5495498,  7168.3157571,\n",
       "       11744.2032789, 13582.1737915, 35919.2583029,  6657.6388185,\n",
       "        3998.2823622,  8396.1223156, 21017.126    , 14189.8262588,\n",
       "        2179.7371115, 14191.8569117, 49812.75905  , 11674.5214718,\n",
       "       34627.3150523, 15891.4914933, 38860.3400596, 12959.1528354,\n",
       "        1467.4431975,  5712.1449659, 19440.0216929, 45698.5960376,\n",
       "       13074.0721396, 12054.4774688,  9864.7337764, 11700.854689 ,\n",
       "       14904.8463031, 19408.827887 ,  7214.0407115,  1221.9249975,\n",
       "        6079.7587445, 40344.300166 , 21667.0842355,  9444.7850283,\n",
       "        3010.1131943, 13034.0585239, 16243.7647187,  5701.363869 ,\n",
       "       33724.8133245, 10359.3441686,  7096.6761284,  1925.7504685,\n",
       "        8857.8635882,  2668.590782 , 11944.0751311, 13654.933425 ,\n",
       "        3786.0366485,  8136.4136678, 10469.4469743,  9761.0389731,\n",
       "       10239.4041895,  6513.9869639, 12194.0940485, 21435.7031044,\n",
       "       23515.512063 ,  2156.136509 , 13408.2024515, 11837.4352786,\n",
       "        9563.2572894,  5985.3436295,  2633.5404766,  9864.0950444,\n",
       "        1822.5818485,  2791.0079144,  1634.8671735, 13119.0643863,\n",
       "        4084.613694 , 14328.5071828, 11678.2249107,  7612.3873009,\n",
       "        6798.707112 ,  2352.0993927,  8222.6566267,  2109.2576464,\n",
       "       10462.2699117,  7220.3542582, 16097.6078807, 17480.7350078,\n",
       "       14121.1134649, 13215.086258 ,  1994.9357525, 20403.5466039,\n",
       "       10345.7691222,  1767.467503 ,  8789.7955367,  3269.0213654,\n",
       "        4979.5309125,  9306.3485341, 11159.3395461, 12119.8411222,\n",
       "       41237.5432601, 41958.2874847, 10622.8653597, 16791.0841029,\n",
       "        2045.0470182,  8428.971488 ,  4709.531577 ,  1700.1307855,\n",
       "        9997.0115139, 11469.1577386, 12522.9837494, 11477.044515 ,\n",
       "       23748.9564578, 23720.7659161,  7680.477016 ,  3439.5160239,\n",
       "        5753.7325712, 17104.9801876,  6196.1057426,  2532.6656036,\n",
       "        8609.0616122,  4588.7235128,  7349.2198635, 24779.4845515,\n",
       "       14092.4698704, 23777.7193845,  7182.6100291,  8378.1740599,\n",
       "        6248.4779338,  5559.5542405, 22049.967809 ,  7701.131254 ,\n",
       "       45680.4786685,  4823.6163534, 12370.2270494,  5746.0445174,\n",
       "       19290.5427352, 28715.7349744, 15334.5160014, 14227.2440164,\n",
       "        1692.692333 ,  7100.9464405, 12303.4628153, 12209.1300019,\n",
       "        7552.6044485, 10193.4089746, 11896.6730704,  2174.2227665,\n",
       "        3815.1590949, 17099.5569262,  6999.5220545, 11755.4579909,\n",
       "        6409.109547 ,  6337.3793415,  4476.5023321,  1981.4886795,\n",
       "        6326.9588715, 40721.1342704, 47877.8750284,  6629.131877 ,\n",
       "        1309.626353 ,  2222.1718796, 34750.4324493,  2598.6406305,\n",
       "       22151.0596149,  6208.6816489, 11611.1908221,  8160.1447763,\n",
       "        3802.8365626, 20077.0091051,  4644.6480547, 47933.856396 ,\n",
       "        9742.865878 ,  6709.873766 ,  8899.6014674,  8635.8882324,\n",
       "       27887.6137635,  5605.7400057,  1703.7349193,  6773.7387585,\n",
       "        9807.6358717,  8605.3444316, 12521.3626513, 43040.8831313,\n",
       "       27281.836297 ,  4784.9195401, 21580.7311425, 10504.4704718,\n",
       "       17898.5312785,  5823.1692016,  6103.853726 ,  1706.56925  ,\n",
       "       18547.9901885,  8575.3281926, 10683.5921606, 16894.8498465,\n",
       "        4615.9838635, 41621.811558 , 13092.251321 ,  7425.2531983,\n",
       "       43399.3189975, 10119.6075249,  7585.3789484,  6958.0813564,\n",
       "       13718.7762114, 13251.6796632,  3759.0641091, 47156.7768371,\n",
       "        7569.225869 , 24698.3585712, 24376.9276739, 14153.5189715,\n",
       "       11085.0232341, 11663.9020496,  1297.819767 , 16862.8447955,\n",
       "        5359.5811189,  6661.9938107,  8171.6476723,  2217.7194945,\n",
       "       16112.406377 , 15676.3760567,  6460.5351273, 45054.2116245,\n",
       "       42273.765624 ,  6282.2584926, 45578.3351349,  5056.9951442,\n",
       "       36938.3621795, 43309.0663844, 16466.9394138,  5893.5881224,\n",
       "       13902.9591463, 15024.3959741,  8770.4219081, 13388.1918409,\n",
       "        9895.9261917, 40363.7282193,  6440.0144468, 40514.0402954,\n",
       "        5154.933381 ,  3558.7370501, 11471.862812 ,  7521.8215551,\n",
       "       10370.8640176, 34099.6289458,  5880.1973563,  6016.140668 ,\n",
       "        8707.1455679, 39909.0999096,  6664.1482461, 10123.8722481,\n",
       "        9950.9985444, 13166.0850913, 18433.5374767, 38622.994757 ,\n",
       "        7446.8512004, 13864.9198223,  6287.9240847,  9559.011455 ,\n",
       "       13066.950725 , 13005.9614814, 16148.1722271,  5362.2950475,\n",
       "       37705.7504828, 12293.1774636, 41052.8326817,  7112.3897104,\n",
       "       47208.9828784,  8365.1123909,  2194.10049  , 14151.7483125,\n",
       "       11183.3972103, 13207.6540469,  3703.7745326, 13312.6223097,\n",
       "       17579.9346632, 13330.2392551, 47389.5416538, 11840.97973  ,\n",
       "        9606.9902745,  3168.96497  , 22722.714229 ,  1649.466454 ,\n",
       "       12462.448499 ,  8253.6601201,  6928.8378804, 38718.6425415,\n",
       "       15488.1509768, 40281.1269392,  3955.4537349,  6252.1367815,\n",
       "        8211.8670595, 18582.1028155, 13141.0756517, 12515.0470522,\n",
       "       35960.4957321,  6133.1111975, 14036.4557134, 39884.3693687,\n",
       "        7348.0628705,  4243.3825399,  9682.8920794,  9376.8114181,\n",
       "        4946.5485823, 14289.814052 ,  8868.91471  , 23584.775207 ,\n",
       "        3336.5632797, 23994.6516645, 27567.2715089, 13942.1103091,\n",
       "       16423.0637575, 16170.8077792,  9001.5175633, 37538.861466 ,\n",
       "        9758.3551485,  4256.0423623,  4326.3793716, 13402.674846 ,\n",
       "       14326.8773904, 23043.3678265,  6696.7784982,  9730.3838833,\n",
       "        8593.2082125, 50241.5011009,  2257.8174021, 13805.5405285,\n",
       "        6375.1650605,  7348.3916488,  6877.8262215,  4183.196651 ,\n",
       "        7721.6958207,  7371.330386 ,  6838.9251245, 48731.729688 ,\n",
       "       21734.4292209,  9226.0495044, 11668.2501271,  5098.2928981,\n",
       "        2499.9359445, 11670.0973581, 42787.9175078,  1778.9980325,\n",
       "       20489.6900117,  6993.6069086])"
      ]
     },
     "execution_count": 49,
     "metadata": {},
     "output_type": "execute_result"
    }
   ],
   "source": [
    "y_pred"
   ]
  },
  {
   "cell_type": "code",
   "execution_count": 50,
   "id": "012e3ab8",
   "metadata": {},
   "outputs": [
    {
     "data": {
      "text/plain": [
       "0.8550711788986538"
      ]
     },
     "execution_count": 50,
     "metadata": {},
     "output_type": "execute_result"
    }
   ],
   "source": [
    "r2score=r2_score(y_test,y_pred)\n",
    "r2score"
   ]
  },
  {
   "cell_type": "code",
   "execution_count": 51,
   "id": "4a31a123",
   "metadata": {},
   "outputs": [
    {
     "data": {
      "text/plain": [
       "0.8477215189873417"
      ]
     },
     "execution_count": 51,
     "metadata": {},
     "output_type": "execute_result"
    }
   ],
   "source": [
    "adjusted_r2= 1-(((1-0.85)*(402-1))/(402-6-1))\n",
    "adjusted_r2"
   ]
  },
  {
   "cell_type": "code",
   "execution_count": 73,
   "id": "9d419746",
   "metadata": {},
   "outputs": [],
   "source": [
    "ytrain_pred=rf.predict(X_train)"
   ]
  },
  {
   "cell_type": "code",
   "execution_count": 74,
   "id": "4ccd6bb6",
   "metadata": {},
   "outputs": [
    {
     "data": {
      "text/plain": [
       "0.9752080318803977"
      ]
     },
     "execution_count": 74,
     "metadata": {},
     "output_type": "execute_result"
    }
   ],
   "source": [
    "r2score=r2_score(y_train,ytrain_pred)\n",
    "r2score"
   ]
  },
  {
   "cell_type": "markdown",
   "id": "786a4058",
   "metadata": {},
   "source": [
    "By looking at the difference between accuracy score of testing and training, we can deduce that it is overfitting. So, we have opted the Hyperparameter Tuning approach as shown below:"
   ]
  },
  {
   "cell_type": "markdown",
   "id": "355bd751",
   "metadata": {},
   "source": [
    "### Hyperparameter tuning of Random forest algorithm"
   ]
  },
  {
   "cell_type": "code",
   "execution_count": 94,
   "id": "a6a50b48",
   "metadata": {},
   "outputs": [],
   "source": [
    "from sklearn.model_selection import RandomizedSearchCV\n"
   ]
  },
  {
   "cell_type": "code",
   "execution_count": 336,
   "id": "26cdaf41",
   "metadata": {},
   "outputs": [
    {
     "name": "stdout",
     "output_type": "stream",
     "text": [
      "Fitting 3 folds for each of 100 candidates, totalling 300 fits\n",
      "Best paramters: {'n_estimators': 400, 'min_samples_split': 10, 'min_samples_leaf': 2, 'max_features': 'log2', 'max_depth': None, 'bootstrap': False})\n"
     ]
    }
   ],
   "source": [
    "n_estimators = [int(x) for x in np.linspace(start=200, stop=2000, num=10)]#List Comprehension-using for loop in list\n",
    "criterion = [\"squared_error\", \"absolute_error\", \"friedman_mse\", \"poisson\"]\n",
    "\n",
    "max_features = ['log2', 'sqrt']#maximum number of features allowed to try in individual tree\n",
    "max_depth = [int(x) for x in np.linspace(10, 110, num=11)]#List Comprehension-using for loop in list\n",
    "max_depth.append(None)\n",
    "min_samples_split = [2, 5, 10, 12, 14, 18, 22]#minimum number of samples required to split an internal node\n",
    "min_samples_leaf = [1, 2, 4, 6, 8, 9, 10, 12]#minimum number of samples required to be at a leaf node.\n",
    "bootstrap = [True, False]#sampling \n",
    "\n",
    "#dictionary for hyperparameters\n",
    "random_grid = {'n_estimators': n_estimators, 'max_features': max_features,\n",
    "               'max_depth': max_depth, 'min_samples_split': min_samples_split,\n",
    "               'min_samples_leaf': min_samples_leaf, 'bootstrap': bootstrap}\n",
    "\n",
    "rf_clf1 = RandomForestRegressor(random_state=42)#model\n",
    "\n",
    "rf_cv = RandomizedSearchCV(estimator=rf_clf1, scoring='r2',param_distributions=random_grid, n_iter=100, cv=3, \n",
    "                               verbose=2, random_state=42, n_jobs=-1) \n",
    "#estimator--number of decision tree\n",
    "#scoring--->performance matrix to check performance\n",
    "#param_distribution-->hyperparametes(dictionary we created)\n",
    "#n_iter--->Number of parameter settings that are sampled. n_iter trades off runtime vs quality of the solution.default=10\n",
    "##cv------> number of flods\n",
    "#verbose=Controls the verbosity: the higher, the more messages.\n",
    "#n_jobs---->Number of jobs to run in parallel,-1 means using all processors.\n",
    "\n",
    "rf_cv.fit(X_train, y_train)##training data on randomsearch cv\n",
    "rf_best_params = rf_cv.best_params_##it will give you best parameters \n",
    "print(f\"Best paramters: {rf_best_params})\")##printing  best parameters\n",
    " \n"
   ]
  },
  {
   "cell_type": "code",
   "execution_count": 337,
   "id": "af9ebf49",
   "metadata": {},
   "outputs": [],
   "source": [
    "rf_clf2 = RandomForestRegressor(n_estimators= 400, min_samples_split=10, min_samples_leaf=2, max_features='log2', max_depth= None, bootstrap=False)#passing best parameter to randomforest\n",
    "rf_clf2.fit(X_train, y_train)#training \n",
    "y_predict1=rf_clf2.predict(X_test)#testing"
   ]
  },
  {
   "cell_type": "code",
   "execution_count": 338,
   "id": "4ade0440",
   "metadata": {
    "scrolled": true
   },
   "outputs": [
    {
     "data": {
      "text/plain": [
       "0.8624819203932759"
      ]
     },
     "execution_count": 338,
     "metadata": {},
     "output_type": "execute_result"
    }
   ],
   "source": [
    "r2score11=r2_score(y_test,y_predict1)\n",
    "r2score11"
   ]
  },
  {
   "cell_type": "code",
   "execution_count": 339,
   "id": "714365e4",
   "metadata": {},
   "outputs": [
    {
     "data": {
      "text/plain": [
       "0.8603098734177216"
      ]
     },
     "execution_count": 339,
     "metadata": {},
     "output_type": "execute_result"
    }
   ],
   "source": [
    "adjusted_r2_Score= 1-(((1-0.8624)*(402-1))/(402-6-1))\n",
    "adjusted_r2_Score"
   ]
  },
  {
   "cell_type": "code",
   "execution_count": 117,
   "id": "78be40c0",
   "metadata": {},
   "outputs": [],
   "source": [
    "ytrain_pred11=rf_clf2.predict(X_train)"
   ]
  },
  {
   "cell_type": "code",
   "execution_count": 118,
   "id": "d8ac94bb",
   "metadata": {},
   "outputs": [
    {
     "data": {
      "text/plain": [
       "0.9112285171262531"
      ]
     },
     "execution_count": 118,
     "metadata": {},
     "output_type": "execute_result"
    }
   ],
   "source": [
    "r2score_train11=r2_score(y_train,ytrain_pred11)\n",
    "r2score_train11"
   ]
  },
  {
   "cell_type": "markdown",
   "id": "8c896395",
   "metadata": {},
   "source": [
    "### Applying Gradient Boosting"
   ]
  },
  {
   "cell_type": "code",
   "execution_count": 52,
   "id": "62da2bc0",
   "metadata": {},
   "outputs": [],
   "source": [
    "#Traning and testing data creation\n",
    "from sklearn.model_selection import train_test_split\n",
    "X_train,X_test,y_train,y_test=train_test_split(X,y,test_size=0.30,random_state=4)"
   ]
  },
  {
   "cell_type": "code",
   "execution_count": 53,
   "id": "98636317",
   "metadata": {},
   "outputs": [],
   "source": [
    "## importing the model library\n",
    "from sklearn.ensemble import GradientBoostingRegressor\n",
    "gbm=GradientBoostingRegressor()                                 # object creation\n",
    "gbm.fit(X_train,y_train)                                        # fitting the data\n",
    "y_gbm=gbm.predict(X_test)                                       # predicting the price"
   ]
  },
  {
   "cell_type": "code",
   "execution_count": 54,
   "id": "5b8789e6",
   "metadata": {
    "collapsed": true
   },
   "outputs": [
    {
     "data": {
      "text/plain": [
       "array([17048.02485122, 12568.30567   ,  9994.42807727,  7734.42324009,\n",
       "        9848.04456143,  2215.62100702, 11443.48891102, 21181.72615349,\n",
       "       27121.92143469,  3010.7499126 , 12432.46572573, 39422.40912188,\n",
       "       18388.67311672, 11948.52017423, 12021.57002332, 49157.12361247,\n",
       "       12837.87265666, 11159.90673492, 28706.60597483,  1554.00540367,\n",
       "        1865.98176202, 14551.44890702,  6808.05145495,  5188.5208773 ,\n",
       "        9144.35460107, 23166.31198968, 28487.58899831,  6892.53578859,\n",
       "       38760.28312149, 12393.46973203,  2661.6047481 ,  1450.86235241,\n",
       "       16141.25247702,  7820.1721768 ,  8110.04371794,  4336.57780034,\n",
       "       14325.23882243,  9620.34275367,  5759.67792319,  1848.86781676,\n",
       "       14181.7832073 , 14198.74898136,  5939.95363417, 21055.48541777,\n",
       "       10601.78878872, 10999.5961898 , 23329.91192907,  3843.09049746,\n",
       "       11811.21228565, 13521.39155496,  6810.19947694,  4745.16578957,\n",
       "       16332.76193828,  6085.78336998,  2993.68267644, 10716.0140137 ,\n",
       "       13844.35424458,  2730.80052417,  1242.99138319,  4764.27666926,\n",
       "        7369.32996674,  8987.63468325,  3906.06842161, 14415.74608123,\n",
       "       28487.58899831,  8987.35530815,  6158.93235008,  6547.51068953,\n",
       "       11909.6959818 , 14370.76548117, 35593.62741182,  7041.79807838,\n",
       "        4539.24018334,  5360.86519506, 21349.27154154, 12371.0662224 ,\n",
       "        2520.01091635, 15554.94645311, 48901.85384656, 12236.90322318,\n",
       "       35276.80889468,  9769.32592308, 38560.11612734,  7384.50344495,\n",
       "        1865.98176202,  6964.16362165, 18222.66316654, 46632.37718017,\n",
       "       11439.96194264, 11297.42622417, 10244.48988456, 11804.40617229,\n",
       "       15287.74815018, 20801.94272394,  5243.36297525,  1550.33451073,\n",
       "        8470.13449225, 38607.76700601, 22053.29706675,  9667.62712661,\n",
       "        4463.07900985, 14259.69709111, 14304.61133041,  3934.21807618,\n",
       "       35801.5476521 , 12688.36047329,  7157.33584444,  3174.3480765 ,\n",
       "        9295.35583689,  3106.93537429, 13487.03952034, 14168.09103434,\n",
       "        4325.69088594,  8555.06458348, 10849.87239761,  7962.14709439,\n",
       "        9688.82089809,  4025.34075185, 12981.61607579, 22272.95244475,\n",
       "       24548.5635737 ,  5202.43287561, 13474.64808924, 11865.36060535,\n",
       "       10375.84971558,  5879.27858048,  5049.30322314,  8555.04526954,\n",
       "        1920.97157781,  3486.92711481,  2212.93007776, 10833.41404785,\n",
       "        4892.79645891,  9567.74626872, 11797.30516145,  5059.26680528,\n",
       "        7239.76510642,  2435.94933782,  7059.47036101,  2991.09701901,\n",
       "        8937.36105735,  7069.15918885, 17873.50423913, 16443.46124196,\n",
       "       15377.81961024, 15593.08332026,  2685.81596422, 15376.44850398,\n",
       "       10743.39553228,  2230.88957453,  6234.30735309,  3492.12452396,\n",
       "        5643.93069939,  5910.71310175, 11204.73639159, 13443.68307702,\n",
       "       46711.82419409, 42364.10632172, 10668.94348473, 13969.27518095,\n",
       "        1478.15139624,  6575.29020297,  2968.80370485,  2394.29043371,\n",
       "        8995.85207327, 10323.53691212, 12078.12766903,  8499.36555601,\n",
       "       23266.12897415, 24240.77798091,  8615.67141567,  3847.24360991,\n",
       "        4877.40749871, 14882.31681741,  5026.86918107, 10711.54243854,\n",
       "        8038.16680418,  4501.3404086 ,  6011.15242522, 23640.65339465,\n",
       "       15993.26570923, 24087.68497247,  8110.04371794,  8823.42268346,\n",
       "        5656.37145807,  5522.2669388 , 20845.99129211,  7247.06230998,\n",
       "       45252.94770539,  4977.87929969,  9305.92585644,  5325.2208997 ,\n",
       "       15119.13948008, 28459.83707499, 14817.85163851, 11550.91370664,\n",
       "        1432.94204406,  8420.94345119, 11862.73840513,  7506.95778313,\n",
       "        7280.56025815, 10518.72455639, 13106.45163076,  3407.42560539,\n",
       "        4176.98452111, 11499.33144537,  6771.14720837,  9213.89405179,\n",
       "        6838.67376874,  6651.10323148,  4252.13601158,  2023.4294921 ,\n",
       "        8729.82953898, 40594.54413686, 46143.12570292,  7446.58463848,\n",
       "        3111.07200727,  3178.09600152, 36018.22351787,  2579.51150302,\n",
       "       17682.19473685,  6088.1429083 , 11603.05292628,  9186.83340623,\n",
       "        4453.99265827, 19835.90505708,  4708.91633256, 48677.50341162,\n",
       "       10329.99687093,  7073.161242  ,  5796.74195619,  5935.68304559,\n",
       "       25747.24233539,  5516.32473131,  1392.0005785 ,  4289.58834191,\n",
       "        9635.35386232,  5305.91682358, 12254.52151518, 43912.19022989,\n",
       "       26832.16707187,  5795.64647896, 22838.08277011, 11759.28465279,\n",
       "       18494.34886835,  4409.20223367,  7359.21381257,  2098.89150628,\n",
       "       18442.84293154,  8333.50798456, 11958.19209174, 13626.28410501,\n",
       "        5778.47811504, 42296.18549826, 14360.02996712,  6935.05075762,\n",
       "       42484.30963212,  5640.56463534,  8173.63587275,  6558.01507051,\n",
       "       12505.87142978, 14567.29305023,  4258.44619046, 46350.38945648,\n",
       "        8553.02851789, 20922.08463501, 24377.64573815, 15377.81961024,\n",
       "       11768.68896572, 12587.16685839,  1432.94204406, 23726.54710123,\n",
       "        5856.24233951,  5923.96206726,  7280.37827571,  2603.77988451,\n",
       "       15079.75504179, 16356.91332687,  4097.22587533, 44981.0121918 ,\n",
       "       40954.65506123,  5020.92290063, 40954.65506123,  5916.55166844,\n",
       "       36471.56557801, 43912.19022989, 14950.96584606,  5752.91916671,\n",
       "       14434.95046296, 13930.1665426 ,  7755.42049272, 11559.78084923,\n",
       "       10966.05276605, 38437.73645182,  6282.17785557, 38794.62482184,\n",
       "        5902.92549833,  3477.85261129, 11821.85373428,  7603.11554396,\n",
       "       10809.22145956, 35457.18771593,  4508.97080022,  5858.76757211,\n",
       "        4997.10223779, 38844.22759377,  5940.08812286,  5408.02341793,\n",
       "       10181.92339811, 14160.51283231, 13569.8752061 , 37801.60086002,\n",
       "        7073.27622838, 13344.04306422,  5224.48478999,  7661.59076435,\n",
       "        7826.65370309, 13294.31711174, 13495.06300097,  7469.83682534,\n",
       "       38004.98985187,  9946.04945874, 42556.74707445,  8361.46856418,\n",
       "       46488.60265384,  6181.75938944,  2603.77988451, 14507.89182779,\n",
       "       11535.29475969, 14098.61827173,  3878.52898042, 14388.38325895,\n",
       "       12333.1930416 , 13183.95578577, 48744.62274186, 12245.99202673,\n",
       "        7513.96146015,  3357.16518042, 26173.65197821,  2023.4294921 ,\n",
       "       11410.53284309,  6780.86057293,  7967.84396479, 38034.97582905,\n",
       "       16558.26769635, 39501.74471348,  5337.06844938,  6585.38007614,\n",
       "        8607.89779132, 11490.77174819, 13758.59379808,  7002.77941943,\n",
       "       34412.73177103,  6251.92999252, 15732.49368108, 39480.79131264,\n",
       "        8406.2032394 ,  4436.65910412,  9715.0267139 ,  9077.93177227,\n",
       "        5575.185396  , 14232.55374537,  6842.5399449 , 23975.48895712,\n",
       "        2922.4821602 , 25776.74994467, 33457.9062009 , 13154.47558854,\n",
       "       13331.16143016, 14805.93407277,  5416.63899647, 36982.10628155,\n",
       "        8152.17578566,  4778.26286437,  4724.78652626, 13474.64808924,\n",
       "        5661.94532259, 22900.08155251,  7460.71280446,  9272.76143991,\n",
       "        8138.75964067, 49729.05878046,  2853.12349153, 13860.4524092 ,\n",
       "        7069.26557261,  6064.49781422,  6275.78043524,  4734.6710846 ,\n",
       "        8854.6502093 ,  8926.37077352,  7765.4019221 , 47380.39295254,\n",
       "       22366.04844207, 10073.01359029, 11777.79676423,  5748.71967148,\n",
       "        1886.64695298, 11777.79676423, 41725.65553937,  1157.68791494,\n",
       "       15046.98058017,  6572.96232317])"
      ]
     },
     "execution_count": 54,
     "metadata": {},
     "output_type": "execute_result"
    }
   ],
   "source": [
    "y_gbm"
   ]
  },
  {
   "cell_type": "code",
   "execution_count": 55,
   "id": "32813235",
   "metadata": {},
   "outputs": [
    {
     "data": {
      "text/plain": [
       "0.8744451080545117"
      ]
     },
     "execution_count": 55,
     "metadata": {},
     "output_type": "execute_result"
    }
   ],
   "source": [
    "r2score=r2_score(y_test,y_gbm)\n",
    "r2score"
   ]
  },
  {
   "cell_type": "code",
   "execution_count": 56,
   "id": "37ad4dfd",
   "metadata": {},
   "outputs": [
    {
     "data": {
      "text/plain": [
       "0.8680253164556961"
      ]
     },
     "execution_count": 56,
     "metadata": {},
     "output_type": "execute_result"
    }
   ],
   "source": [
    "adjusted_r2= 1-(((1-0.87)*(402-1))/(402-6-1))\n",
    "adjusted_r2"
   ]
  },
  {
   "cell_type": "code",
   "execution_count": 75,
   "id": "ca5bb0fc",
   "metadata": {},
   "outputs": [],
   "source": [
    "ytrain_gbm=gbm.predict(X_train)"
   ]
  },
  {
   "cell_type": "code",
   "execution_count": 76,
   "id": "67b476f5",
   "metadata": {},
   "outputs": [
    {
     "data": {
      "text/plain": [
       "0.905543785121149"
      ]
     },
     "execution_count": 76,
     "metadata": {},
     "output_type": "execute_result"
    }
   ],
   "source": [
    "r2_train_score=r2_score(y_train,ytrain_gbm)\n",
    "r2_train_score"
   ]
  },
  {
   "cell_type": "markdown",
   "id": "4117e59d",
   "metadata": {},
   "source": [
    "## Applying XGBoost "
   ]
  },
  {
   "cell_type": "code",
   "execution_count": 57,
   "id": "3352b7bd",
   "metadata": {},
   "outputs": [],
   "source": [
    "import xgboost\n",
    "\n",
    "## model creation\n",
    "from xgboost import XGBRegressor                        # importing the model library\n",
    "xgb_r=XGBRegressor()                                    # object creation\n",
    "xgb_r.fit(X_train,y_train)                              # fitting the data\n",
    "y_xgb=xgb_r.predict(X_test)                             #predicting the price"
   ]
  },
  {
   "cell_type": "code",
   "execution_count": 58,
   "id": "18fc78f8",
   "metadata": {
    "collapsed": true
   },
   "outputs": [
    {
     "data": {
      "text/plain": [
       "array([18480.502  , 13010.989  , 12989.1875 ,  9153.701  ,  8132.1143 ,\n",
       "        1365.7238 , 10910.299  , 22778.273  , 27875.236  ,  2597.9324 ,\n",
       "       16074.826  , 39580.234  , 18531.408  , 11460.772  , 14741.548  ,\n",
       "       46762.402  , 12706.098  , 10764.754  , 26534.406  ,  1048.3181 ,\n",
       "        1291.5914 , 16345.919  ,  5470.0396 ,  3758.3123 ,  8563.159  ,\n",
       "       21398.926  , 30488.266  ,  6515.6265 , 40871.844  , 22529.818  ,\n",
       "        3644.4307 ,  1120.4512 , 14926.285  , 13186.804  ,  6706.095  ,\n",
       "        7267.962  , 14146.112  ,  8186.2744 ,  4677.9873 ,  2353.2505 ,\n",
       "       12030.107  , 15055.022  ,  5782.194  , 21124.742  , 12500.532  ,\n",
       "       10918.63   , 24099.537  ,  2470.829  ,  8239.785  , 11181.562  ,\n",
       "        5391.1245 ,  3605.148  , 20150.97   ,  4535.398  ,  2643.2693 ,\n",
       "        9925.545  , 13855.537  ,  2199.18   ,  1870.8829 ,  2959.8955 ,\n",
       "        6626.04   , 11691.811  ,  3952.1143 , 15391.978  , 27258.     ,\n",
       "        9451.815  ,  9283.414  ,  7097.877  , 12690.9    , 12768.4    ,\n",
       "       35084.79   ,  6746.3325 ,  3785.8928 ,  3077.672  , 21758.043  ,\n",
       "       19277.443  ,   879.18225, 13287.303  , 51516.93   , 12263.863  ,\n",
       "       37201.2    , 17908.428  , 37117.67   ,  9557.281  ,  1336.605  ,\n",
       "        6103.2485 , 17912.861  , 48306.445  , 12480.905  , 10549.863  ,\n",
       "        9605.072  , 10865.847  , 15493.     , 18971.193  ,  4374.177  ,\n",
       "         704.4757 , 12199.788  , 39836.26   , 20988.299  ,  8280.401  ,\n",
       "        3660.9956 , 14672.433  , 13330.926  ,  2206.3413 , 35658.85   ,\n",
       "       11155.002  ,  6259.069  ,  4547.705  , 10635.71   ,  1768.9957 ,\n",
       "       11873.458  , 13768.237  ,  3734.0103 ,  8064.305  , 12678.82   ,\n",
       "        7993.0864 , 11649.011  ,  6173.034  , 11131.728  , 21566.041  ,\n",
       "       23159.23   ,  2816.375  , 13464.545  , 11494.415  ,  8542.567  ,\n",
       "        3710.8037 ,  8425.589  ,  7815.6665 ,  1312.9014 ,  2811.7803 ,\n",
       "        1728.511  , 11773.717  ,  2644.5842 , 10221.491  , 10972.825  ,\n",
       "        6413.906  ,  6574.921  ,  1450.7028 , 13872.2295 ,  3109.7952 ,\n",
       "        7878.148  ,  6079.392  , 14000.553  , 19662.57   , 14362.94   ,\n",
       "       13941.412  ,  2808.4954 , 16815.96   , 11562.969  ,  1746.0845 ,\n",
       "        7409.7427 ,  2026.8391 ,  3119.423  , 14661.164  ,  8156.0005 ,\n",
       "       11981.025  , 45642.47   , 42369.19   ,  8367.312  , 12935.511  ,\n",
       "        2660.3445 ,  6059.262  ,  2753.927  ,  1926.5396 ,  9532.446  ,\n",
       "       10696.864  , 11898.698  , 10842.1    , 24148.648  , 23943.674  ,\n",
       "        9927.612  ,  3578.8787 ,  2878.0042 , 21342.902  ,  6665.2046 ,\n",
       "       11994.143  , 10610.89   ,  4172.771  ,  7474.9766 , 22966.53   ,\n",
       "       16639.324  , 23621.053  ,  6787.3984 ,  9771.259  ,  6898.0303 ,\n",
       "        4678.601  , 23780.373  ,  7185.63   , 45449.336  ,  5106.8716 ,\n",
       "       13143.909  ,  7104.123  , 19128.402  , 28174.582  , 20245.344  ,\n",
       "       13548.316  ,  1149.8992 ,  9676.925  , 12816.212  , 13511.721  ,\n",
       "        5796.5776 ,  8613.1875 , 12737.892  ,   347.11118,  2774.877  ,\n",
       "       12375.296  ,  6485.84   , 14348.438  ,  9319.536  ,  5520.43   ,\n",
       "        3196.7058 ,  1434.5173 ,  7916.659  , 40420.434  , 46979.03   ,\n",
       "        6768.2686 ,  6443.388  ,  1908.2838 , 34841.516  , -1067.8466 ,\n",
       "       19475.139  ,  6827.2334 , 10229.392  ,  7908.6177 ,  3840.9739 ,\n",
       "       22030.684  ,  4825.7495 , 47698.074  ,  7894.008  ,  6928.73   ,\n",
       "        7007.3057 ,  9362.849  , 25454.627  ,  3581.5317 ,  1878.6593 ,\n",
       "        5877.1655 ,  8437.663  ,  5471.7573 , 13192.372  , 42659.652  ,\n",
       "       27671.047  ,  5455.3247 , 23907.096  , 11728.003  , 16298.023  ,\n",
       "        7541.1587 ,  7405.2363 ,   665.3299 , 17397.867  ,  8359.883  ,\n",
       "       12715.562  , 12546.87   ,  3640.5105 , 41732.81   , 12845.75   ,\n",
       "        4424.1157 , 43273.945  , 11504.376  , 10281.7705 ,  6624.3716 ,\n",
       "       11893.516  , 14554.21   ,  3834.3042 , 48586.562  ,  6886.3066 ,\n",
       "       23099.611  , 25832.5    , 15362.019  ,  8427.479  , 10332.003  ,\n",
       "        1204.7704 , 25716.82   ,  3535.635  ,  6506.725  ,  6699.738  ,\n",
       "        1914.4384 , 15987.682  , 18697.95   , 10119.101  , 44850.184  ,\n",
       "       40655.977  ,  7043.879  , 42576.7    ,  4265.0664 , 37325.21   ,\n",
       "       44271.945  , 17171.697  ,  4226.8022 , 13578.57   , 10700.613  ,\n",
       "        6323.006  , 12568.751  ,  8759.182  , 40146.56   ,  6035.659  ,\n",
       "       39191.184  ,  7126.172  ,  3911.0464 , 11023.224  ,  7770.8604 ,\n",
       "        8609.596  , 35112.96   ,  2572.5327 ,  6289.8867 ,  9376.169  ,\n",
       "       38969.184  ,  5748.7544 , 11037.447  ,  8273.25   , 13853.996  ,\n",
       "       25343.523  , 36144.723  ,  7172.1665 , 11673.404  ,  4045.0945 ,\n",
       "        7933.3354 , 15762.76   , 11284.692  , 14444.134  ,  9427.439  ,\n",
       "       39501.004  , 11136.902  , 39784.664  ,  6207.144  , 43206.566  ,\n",
       "        9941.182  ,  2045.8597 , 13922.284  , 12103.403  , 13759.912  ,\n",
       "        3056.7705 ,  9702.     , 12836.275  , 15602.073  , 48318.773  ,\n",
       "       10883.659  , 11075.541  ,  1863.3668 , 26261.516  ,  3168.4502 ,\n",
       "       14588.611  , 10650.424  ,  7752.9688 , 37193.98   , 15019.962  ,\n",
       "       40254.86   ,  5785.3687 ,  6289.561  ,  9665.447  , 19987.754  ,\n",
       "       11295.415  ,  8672.484  , 34528.895  ,  5849.2183 , 15611.393  ,\n",
       "       39453.938  ,  3725.682  ,  5767.099  , 13749.827  ,  9638.627  ,\n",
       "        4722.824  , 14826.449  ,  6809.863  , 24128.957  ,  8051.921  ,\n",
       "       24333.6    , 34445.484  , 15375.73   , 19840.436  , 15190.83   ,\n",
       "        8363.37   , 37583.99   ,  9503.181  ,  3550.487  ,  3996.954  ,\n",
       "       13469.268  ,  9510.4375 , 26105.43   ,  7406.6406 ,  9333.55   ,\n",
       "        7364.093  , 49289.22   ,   527.59625, 13105.986  ,  6256.2827 ,\n",
       "       10548.949  ,  7327.191  ,  4220.53   ,  6806.2466 , 10996.273  ,\n",
       "        6257.588  , 46638.223  , 21664.676  ,  7742.958  , 10954.684  ,\n",
       "        3622.7244 ,  1527.0735 , 10991.26   , 43942.887  ,  -226.16655,\n",
       "       16143.988  ,  4817.564  ], dtype=float32)"
      ]
     },
     "execution_count": 58,
     "metadata": {},
     "output_type": "execute_result"
    }
   ],
   "source": [
    "y_xgb"
   ]
  },
  {
   "cell_type": "code",
   "execution_count": 59,
   "id": "a7f2dbb4",
   "metadata": {},
   "outputs": [
    {
     "data": {
      "text/plain": [
       "0.8315808496065874"
      ]
     },
     "execution_count": 59,
     "metadata": {},
     "output_type": "execute_result"
    }
   ],
   "source": [
    "r2score=r2_score(y_test,y_xgb)\n",
    "r2score"
   ]
  },
  {
   "cell_type": "code",
   "execution_count": 60,
   "id": "e1ed6b61",
   "metadata": {},
   "outputs": [
    {
     "data": {
      "text/plain": [
       "0.8274177215189873"
      ]
     },
     "execution_count": 60,
     "metadata": {},
     "output_type": "execute_result"
    }
   ],
   "source": [
    "adjusted_r2= 1-(((1-0.83)*(402-1))/(402-6-1))\n",
    "adjusted_r2"
   ]
  },
  {
   "cell_type": "code",
   "execution_count": 77,
   "id": "a8e935da",
   "metadata": {},
   "outputs": [],
   "source": [
    "ytrain_xgb=xgb_r.predict(X_train)"
   ]
  },
  {
   "cell_type": "code",
   "execution_count": 78,
   "id": "0f20fb0e",
   "metadata": {},
   "outputs": [
    {
     "data": {
      "text/plain": [
       "0.996875944364738"
      ]
     },
     "execution_count": 78,
     "metadata": {},
     "output_type": "execute_result"
    }
   ],
   "source": [
    "r2_trainscore=r2_score(y_train,ytrain_xgb)\n",
    "r2_trainscore"
   ]
  },
  {
   "cell_type": "markdown",
   "id": "eee39af0",
   "metadata": {},
   "source": [
    "By looking at the difference between accuracy score of testing and training, we can deduce that it is overfitting. So, we have opted the Hyperparameter Tuning approach as shown below:"
   ]
  },
  {
   "cell_type": "markdown",
   "id": "286074f7",
   "metadata": {},
   "source": [
    "### Hyperparameter Tuning of XGBoost"
   ]
  },
  {
   "cell_type": "code",
   "execution_count": 119,
   "id": "43f58c44",
   "metadata": {},
   "outputs": [],
   "source": [
    "params11={\n",
    "    \"learning_rate\"       : [0.05, 0.10, 0.15, 0.20, 0.25, 0.30],\n",
    "    \"max_depth\"           : [3,4,5,6,7,8,9,10,12,14,15],\n",
    "    \"min_child_weight\"    : [1,3,5,7],\n",
    "    \"gamma\"               : [0.0, 0.1, 0.2, 0.3, 0.4],\n",
    "    \"colsample_bytree\"    : [0.3, 0.4, 0.5, 0.7]\n",
    "}"
   ]
  },
  {
   "cell_type": "code",
   "execution_count": 120,
   "id": "98a1743c",
   "metadata": {},
   "outputs": [],
   "source": [
    "regressor=XGBRegressor()"
   ]
  },
  {
   "cell_type": "code",
   "execution_count": 214,
   "id": "d98135d6",
   "metadata": {},
   "outputs": [],
   "source": [
    "random_search= RandomizedSearchCV(regressor, param_distributions=params11, n_iter=170, scoring='r2', n_jobs=-1, cv=3, verbose=3)"
   ]
  },
  {
   "cell_type": "code",
   "execution_count": 215,
   "id": "b8db65bc",
   "metadata": {},
   "outputs": [
    {
     "name": "stdout",
     "output_type": "stream",
     "text": [
      "Fitting 3 folds for each of 170 candidates, totalling 510 fits\n"
     ]
    },
    {
     "data": {
      "text/html": [
       "<style>#sk-container-id-22 {color: black;background-color: white;}#sk-container-id-22 pre{padding: 0;}#sk-container-id-22 div.sk-toggleable {background-color: white;}#sk-container-id-22 label.sk-toggleable__label {cursor: pointer;display: block;width: 100%;margin-bottom: 0;padding: 0.3em;box-sizing: border-box;text-align: center;}#sk-container-id-22 label.sk-toggleable__label-arrow:before {content: \"▸\";float: left;margin-right: 0.25em;color: #696969;}#sk-container-id-22 label.sk-toggleable__label-arrow:hover:before {color: black;}#sk-container-id-22 div.sk-estimator:hover label.sk-toggleable__label-arrow:before {color: black;}#sk-container-id-22 div.sk-toggleable__content {max-height: 0;max-width: 0;overflow: hidden;text-align: left;background-color: #f0f8ff;}#sk-container-id-22 div.sk-toggleable__content pre {margin: 0.2em;color: black;border-radius: 0.25em;background-color: #f0f8ff;}#sk-container-id-22 input.sk-toggleable__control:checked~div.sk-toggleable__content {max-height: 200px;max-width: 100%;overflow: auto;}#sk-container-id-22 input.sk-toggleable__control:checked~label.sk-toggleable__label-arrow:before {content: \"▾\";}#sk-container-id-22 div.sk-estimator input.sk-toggleable__control:checked~label.sk-toggleable__label {background-color: #d4ebff;}#sk-container-id-22 div.sk-label input.sk-toggleable__control:checked~label.sk-toggleable__label {background-color: #d4ebff;}#sk-container-id-22 input.sk-hidden--visually {border: 0;clip: rect(1px 1px 1px 1px);clip: rect(1px, 1px, 1px, 1px);height: 1px;margin: -1px;overflow: hidden;padding: 0;position: absolute;width: 1px;}#sk-container-id-22 div.sk-estimator {font-family: monospace;background-color: #f0f8ff;border: 1px dotted black;border-radius: 0.25em;box-sizing: border-box;margin-bottom: 0.5em;}#sk-container-id-22 div.sk-estimator:hover {background-color: #d4ebff;}#sk-container-id-22 div.sk-parallel-item::after {content: \"\";width: 100%;border-bottom: 1px solid gray;flex-grow: 1;}#sk-container-id-22 div.sk-label:hover label.sk-toggleable__label {background-color: #d4ebff;}#sk-container-id-22 div.sk-serial::before {content: \"\";position: absolute;border-left: 1px solid gray;box-sizing: border-box;top: 0;bottom: 0;left: 50%;z-index: 0;}#sk-container-id-22 div.sk-serial {display: flex;flex-direction: column;align-items: center;background-color: white;padding-right: 0.2em;padding-left: 0.2em;position: relative;}#sk-container-id-22 div.sk-item {position: relative;z-index: 1;}#sk-container-id-22 div.sk-parallel {display: flex;align-items: stretch;justify-content: center;background-color: white;position: relative;}#sk-container-id-22 div.sk-item::before, #sk-container-id-22 div.sk-parallel-item::before {content: \"\";position: absolute;border-left: 1px solid gray;box-sizing: border-box;top: 0;bottom: 0;left: 50%;z-index: -1;}#sk-container-id-22 div.sk-parallel-item {display: flex;flex-direction: column;z-index: 1;position: relative;background-color: white;}#sk-container-id-22 div.sk-parallel-item:first-child::after {align-self: flex-end;width: 50%;}#sk-container-id-22 div.sk-parallel-item:last-child::after {align-self: flex-start;width: 50%;}#sk-container-id-22 div.sk-parallel-item:only-child::after {width: 0;}#sk-container-id-22 div.sk-dashed-wrapped {border: 1px dashed gray;margin: 0 0.4em 0.5em 0.4em;box-sizing: border-box;padding-bottom: 0.4em;background-color: white;}#sk-container-id-22 div.sk-label label {font-family: monospace;font-weight: bold;display: inline-block;line-height: 1.2em;}#sk-container-id-22 div.sk-label-container {text-align: center;}#sk-container-id-22 div.sk-container {/* jupyter's `normalize.less` sets `[hidden] { display: none; }` but bootstrap.min.css set `[hidden] { display: none !important; }` so we also need the `!important` here to be able to override the default hidden behavior on the sphinx rendered scikit-learn.org. See: https://github.com/scikit-learn/scikit-learn/issues/21755 */display: inline-block !important;position: relative;}#sk-container-id-22 div.sk-text-repr-fallback {display: none;}</style><div id=\"sk-container-id-22\" class=\"sk-top-container\"><div class=\"sk-text-repr-fallback\"><pre>RandomizedSearchCV(cv=3,\n",
       "                   estimator=XGBRegressor(base_score=None, booster=None,\n",
       "                                          callbacks=None,\n",
       "                                          colsample_bylevel=None,\n",
       "                                          colsample_bynode=None,\n",
       "                                          colsample_bytree=0.7,\n",
       "                                          early_stopping_rounds=None,\n",
       "                                          enable_categorical=False,\n",
       "                                          eval_metric=None, feature_types=None,\n",
       "                                          gamma=0.0, gpu_id=None,\n",
       "                                          grow_policy=None,\n",
       "                                          importance_type=None,\n",
       "                                          interaction_constraints=None,\n",
       "                                          learning_rate=0....\n",
       "                                          monotone_constraints=None,\n",
       "                                          n_estimators=100, n_jobs=None,\n",
       "                                          num_parallel_tree=None,\n",
       "                                          predictor=None, random_state=None, ...),\n",
       "                   n_iter=170, n_jobs=-1,\n",
       "                   param_distributions={&#x27;colsample_bytree&#x27;: [0.3, 0.4, 0.5,\n",
       "                                                             0.7],\n",
       "                                        &#x27;gamma&#x27;: [0.0, 0.1, 0.2, 0.3, 0.4],\n",
       "                                        &#x27;learning_rate&#x27;: [0.05, 0.1, 0.15, 0.2,\n",
       "                                                          0.25, 0.3],\n",
       "                                        &#x27;max_depth&#x27;: [3, 4, 5, 6, 7, 8, 9, 10,\n",
       "                                                      12, 14, 15],\n",
       "                                        &#x27;min_child_weight&#x27;: [1, 3, 5, 7]},\n",
       "                   scoring=&#x27;r2&#x27;, verbose=3)</pre><b>In a Jupyter environment, please rerun this cell to show the HTML representation or trust the notebook. <br />On GitHub, the HTML representation is unable to render, please try loading this page with nbviewer.org.</b></div><div class=\"sk-container\" hidden><div class=\"sk-item sk-dashed-wrapped\"><div class=\"sk-label-container\"><div class=\"sk-label sk-toggleable\"><input class=\"sk-toggleable__control sk-hidden--visually\" id=\"sk-estimator-id-44\" type=\"checkbox\" ><label for=\"sk-estimator-id-44\" class=\"sk-toggleable__label sk-toggleable__label-arrow\">RandomizedSearchCV</label><div class=\"sk-toggleable__content\"><pre>RandomizedSearchCV(cv=3,\n",
       "                   estimator=XGBRegressor(base_score=None, booster=None,\n",
       "                                          callbacks=None,\n",
       "                                          colsample_bylevel=None,\n",
       "                                          colsample_bynode=None,\n",
       "                                          colsample_bytree=0.7,\n",
       "                                          early_stopping_rounds=None,\n",
       "                                          enable_categorical=False,\n",
       "                                          eval_metric=None, feature_types=None,\n",
       "                                          gamma=0.0, gpu_id=None,\n",
       "                                          grow_policy=None,\n",
       "                                          importance_type=None,\n",
       "                                          interaction_constraints=None,\n",
       "                                          learning_rate=0....\n",
       "                                          monotone_constraints=None,\n",
       "                                          n_estimators=100, n_jobs=None,\n",
       "                                          num_parallel_tree=None,\n",
       "                                          predictor=None, random_state=None, ...),\n",
       "                   n_iter=170, n_jobs=-1,\n",
       "                   param_distributions={&#x27;colsample_bytree&#x27;: [0.3, 0.4, 0.5,\n",
       "                                                             0.7],\n",
       "                                        &#x27;gamma&#x27;: [0.0, 0.1, 0.2, 0.3, 0.4],\n",
       "                                        &#x27;learning_rate&#x27;: [0.05, 0.1, 0.15, 0.2,\n",
       "                                                          0.25, 0.3],\n",
       "                                        &#x27;max_depth&#x27;: [3, 4, 5, 6, 7, 8, 9, 10,\n",
       "                                                      12, 14, 15],\n",
       "                                        &#x27;min_child_weight&#x27;: [1, 3, 5, 7]},\n",
       "                   scoring=&#x27;r2&#x27;, verbose=3)</pre></div></div></div><div class=\"sk-parallel\"><div class=\"sk-parallel-item\"><div class=\"sk-item\"><div class=\"sk-label-container\"><div class=\"sk-label sk-toggleable\"><input class=\"sk-toggleable__control sk-hidden--visually\" id=\"sk-estimator-id-45\" type=\"checkbox\" ><label for=\"sk-estimator-id-45\" class=\"sk-toggleable__label sk-toggleable__label-arrow\">estimator: XGBRegressor</label><div class=\"sk-toggleable__content\"><pre>XGBRegressor(base_score=None, booster=None, callbacks=None,\n",
       "             colsample_bylevel=None, colsample_bynode=None,\n",
       "             colsample_bytree=0.7, early_stopping_rounds=None,\n",
       "             enable_categorical=False, eval_metric=None, feature_types=None,\n",
       "             gamma=0.0, gpu_id=None, grow_policy=None, importance_type=None,\n",
       "             interaction_constraints=None, learning_rate=0.05, max_bin=None,\n",
       "             max_cat_threshold=None, max_cat_to_onehot=None,\n",
       "             max_delta_step=None, max_depth=4, max_leaves=None,\n",
       "             min_child_weight=3, missing=nan, monotone_constraints=None,\n",
       "             n_estimators=100, n_jobs=None, num_parallel_tree=None,\n",
       "             predictor=None, random_state=None, ...)</pre></div></div></div><div class=\"sk-serial\"><div class=\"sk-item\"><div class=\"sk-estimator sk-toggleable\"><input class=\"sk-toggleable__control sk-hidden--visually\" id=\"sk-estimator-id-46\" type=\"checkbox\" ><label for=\"sk-estimator-id-46\" class=\"sk-toggleable__label sk-toggleable__label-arrow\">XGBRegressor</label><div class=\"sk-toggleable__content\"><pre>XGBRegressor(base_score=None, booster=None, callbacks=None,\n",
       "             colsample_bylevel=None, colsample_bynode=None,\n",
       "             colsample_bytree=0.7, early_stopping_rounds=None,\n",
       "             enable_categorical=False, eval_metric=None, feature_types=None,\n",
       "             gamma=0.0, gpu_id=None, grow_policy=None, importance_type=None,\n",
       "             interaction_constraints=None, learning_rate=0.05, max_bin=None,\n",
       "             max_cat_threshold=None, max_cat_to_onehot=None,\n",
       "             max_delta_step=None, max_depth=4, max_leaves=None,\n",
       "             min_child_weight=3, missing=nan, monotone_constraints=None,\n",
       "             n_estimators=100, n_jobs=None, num_parallel_tree=None,\n",
       "             predictor=None, random_state=None, ...)</pre></div></div></div></div></div></div></div></div></div></div>"
      ],
      "text/plain": [
       "RandomizedSearchCV(cv=3,\n",
       "                   estimator=XGBRegressor(base_score=None, booster=None,\n",
       "                                          callbacks=None,\n",
       "                                          colsample_bylevel=None,\n",
       "                                          colsample_bynode=None,\n",
       "                                          colsample_bytree=0.7,\n",
       "                                          early_stopping_rounds=None,\n",
       "                                          enable_categorical=False,\n",
       "                                          eval_metric=None, feature_types=None,\n",
       "                                          gamma=0.0, gpu_id=None,\n",
       "                                          grow_policy=None,\n",
       "                                          importance_type=None,\n",
       "                                          interaction_constraints=None,\n",
       "                                          learning_rate=0....\n",
       "                                          monotone_constraints=None,\n",
       "                                          n_estimators=100, n_jobs=None,\n",
       "                                          num_parallel_tree=None,\n",
       "                                          predictor=None, random_state=None, ...),\n",
       "                   n_iter=170, n_jobs=-1,\n",
       "                   param_distributions={'colsample_bytree': [0.3, 0.4, 0.5,\n",
       "                                                             0.7],\n",
       "                                        'gamma': [0.0, 0.1, 0.2, 0.3, 0.4],\n",
       "                                        'learning_rate': [0.05, 0.1, 0.15, 0.2,\n",
       "                                                          0.25, 0.3],\n",
       "                                        'max_depth': [3, 4, 5, 6, 7, 8, 9, 10,\n",
       "                                                      12, 14, 15],\n",
       "                                        'min_child_weight': [1, 3, 5, 7]},\n",
       "                   scoring='r2', verbose=3)"
      ]
     },
     "execution_count": 215,
     "metadata": {},
     "output_type": "execute_result"
    }
   ],
   "source": [
    "random_search.fit(X_train,y_train)"
   ]
  },
  {
   "cell_type": "code",
   "execution_count": 216,
   "id": "ba4f5dfb",
   "metadata": {
    "collapsed": true
   },
   "outputs": [
    {
     "data": {
      "text/html": [
       "<style>#sk-container-id-23 {color: black;background-color: white;}#sk-container-id-23 pre{padding: 0;}#sk-container-id-23 div.sk-toggleable {background-color: white;}#sk-container-id-23 label.sk-toggleable__label {cursor: pointer;display: block;width: 100%;margin-bottom: 0;padding: 0.3em;box-sizing: border-box;text-align: center;}#sk-container-id-23 label.sk-toggleable__label-arrow:before {content: \"▸\";float: left;margin-right: 0.25em;color: #696969;}#sk-container-id-23 label.sk-toggleable__label-arrow:hover:before {color: black;}#sk-container-id-23 div.sk-estimator:hover label.sk-toggleable__label-arrow:before {color: black;}#sk-container-id-23 div.sk-toggleable__content {max-height: 0;max-width: 0;overflow: hidden;text-align: left;background-color: #f0f8ff;}#sk-container-id-23 div.sk-toggleable__content pre {margin: 0.2em;color: black;border-radius: 0.25em;background-color: #f0f8ff;}#sk-container-id-23 input.sk-toggleable__control:checked~div.sk-toggleable__content {max-height: 200px;max-width: 100%;overflow: auto;}#sk-container-id-23 input.sk-toggleable__control:checked~label.sk-toggleable__label-arrow:before {content: \"▾\";}#sk-container-id-23 div.sk-estimator input.sk-toggleable__control:checked~label.sk-toggleable__label {background-color: #d4ebff;}#sk-container-id-23 div.sk-label input.sk-toggleable__control:checked~label.sk-toggleable__label {background-color: #d4ebff;}#sk-container-id-23 input.sk-hidden--visually {border: 0;clip: rect(1px 1px 1px 1px);clip: rect(1px, 1px, 1px, 1px);height: 1px;margin: -1px;overflow: hidden;padding: 0;position: absolute;width: 1px;}#sk-container-id-23 div.sk-estimator {font-family: monospace;background-color: #f0f8ff;border: 1px dotted black;border-radius: 0.25em;box-sizing: border-box;margin-bottom: 0.5em;}#sk-container-id-23 div.sk-estimator:hover {background-color: #d4ebff;}#sk-container-id-23 div.sk-parallel-item::after {content: \"\";width: 100%;border-bottom: 1px solid gray;flex-grow: 1;}#sk-container-id-23 div.sk-label:hover label.sk-toggleable__label {background-color: #d4ebff;}#sk-container-id-23 div.sk-serial::before {content: \"\";position: absolute;border-left: 1px solid gray;box-sizing: border-box;top: 0;bottom: 0;left: 50%;z-index: 0;}#sk-container-id-23 div.sk-serial {display: flex;flex-direction: column;align-items: center;background-color: white;padding-right: 0.2em;padding-left: 0.2em;position: relative;}#sk-container-id-23 div.sk-item {position: relative;z-index: 1;}#sk-container-id-23 div.sk-parallel {display: flex;align-items: stretch;justify-content: center;background-color: white;position: relative;}#sk-container-id-23 div.sk-item::before, #sk-container-id-23 div.sk-parallel-item::before {content: \"\";position: absolute;border-left: 1px solid gray;box-sizing: border-box;top: 0;bottom: 0;left: 50%;z-index: -1;}#sk-container-id-23 div.sk-parallel-item {display: flex;flex-direction: column;z-index: 1;position: relative;background-color: white;}#sk-container-id-23 div.sk-parallel-item:first-child::after {align-self: flex-end;width: 50%;}#sk-container-id-23 div.sk-parallel-item:last-child::after {align-self: flex-start;width: 50%;}#sk-container-id-23 div.sk-parallel-item:only-child::after {width: 0;}#sk-container-id-23 div.sk-dashed-wrapped {border: 1px dashed gray;margin: 0 0.4em 0.5em 0.4em;box-sizing: border-box;padding-bottom: 0.4em;background-color: white;}#sk-container-id-23 div.sk-label label {font-family: monospace;font-weight: bold;display: inline-block;line-height: 1.2em;}#sk-container-id-23 div.sk-label-container {text-align: center;}#sk-container-id-23 div.sk-container {/* jupyter's `normalize.less` sets `[hidden] { display: none; }` but bootstrap.min.css set `[hidden] { display: none !important; }` so we also need the `!important` here to be able to override the default hidden behavior on the sphinx rendered scikit-learn.org. See: https://github.com/scikit-learn/scikit-learn/issues/21755 */display: inline-block !important;position: relative;}#sk-container-id-23 div.sk-text-repr-fallback {display: none;}</style><div id=\"sk-container-id-23\" class=\"sk-top-container\"><div class=\"sk-text-repr-fallback\"><pre>XGBRegressor(base_score=None, booster=None, callbacks=None,\n",
       "             colsample_bylevel=None, colsample_bynode=None,\n",
       "             colsample_bytree=0.7, early_stopping_rounds=None,\n",
       "             enable_categorical=False, eval_metric=None, feature_types=None,\n",
       "             gamma=0.4, gpu_id=None, grow_policy=None, importance_type=None,\n",
       "             interaction_constraints=None, learning_rate=0.1, max_bin=None,\n",
       "             max_cat_threshold=None, max_cat_to_onehot=None,\n",
       "             max_delta_step=None, max_depth=3, max_leaves=None,\n",
       "             min_child_weight=5, missing=nan, monotone_constraints=None,\n",
       "             n_estimators=100, n_jobs=None, num_parallel_tree=None,\n",
       "             predictor=None, random_state=None, ...)</pre><b>In a Jupyter environment, please rerun this cell to show the HTML representation or trust the notebook. <br />On GitHub, the HTML representation is unable to render, please try loading this page with nbviewer.org.</b></div><div class=\"sk-container\" hidden><div class=\"sk-item\"><div class=\"sk-estimator sk-toggleable\"><input class=\"sk-toggleable__control sk-hidden--visually\" id=\"sk-estimator-id-47\" type=\"checkbox\" checked><label for=\"sk-estimator-id-47\" class=\"sk-toggleable__label sk-toggleable__label-arrow\">XGBRegressor</label><div class=\"sk-toggleable__content\"><pre>XGBRegressor(base_score=None, booster=None, callbacks=None,\n",
       "             colsample_bylevel=None, colsample_bynode=None,\n",
       "             colsample_bytree=0.7, early_stopping_rounds=None,\n",
       "             enable_categorical=False, eval_metric=None, feature_types=None,\n",
       "             gamma=0.4, gpu_id=None, grow_policy=None, importance_type=None,\n",
       "             interaction_constraints=None, learning_rate=0.1, max_bin=None,\n",
       "             max_cat_threshold=None, max_cat_to_onehot=None,\n",
       "             max_delta_step=None, max_depth=3, max_leaves=None,\n",
       "             min_child_weight=5, missing=nan, monotone_constraints=None,\n",
       "             n_estimators=100, n_jobs=None, num_parallel_tree=None,\n",
       "             predictor=None, random_state=None, ...)</pre></div></div></div></div></div>"
      ],
      "text/plain": [
       "XGBRegressor(base_score=None, booster=None, callbacks=None,\n",
       "             colsample_bylevel=None, colsample_bynode=None,\n",
       "             colsample_bytree=0.7, early_stopping_rounds=None,\n",
       "             enable_categorical=False, eval_metric=None, feature_types=None,\n",
       "             gamma=0.4, gpu_id=None, grow_policy=None, importance_type=None,\n",
       "             interaction_constraints=None, learning_rate=0.1, max_bin=None,\n",
       "             max_cat_threshold=None, max_cat_to_onehot=None,\n",
       "             max_delta_step=None, max_depth=3, max_leaves=None,\n",
       "             min_child_weight=5, missing=nan, monotone_constraints=None,\n",
       "             n_estimators=100, n_jobs=None, num_parallel_tree=None,\n",
       "             predictor=None, random_state=None, ...)"
      ]
     },
     "execution_count": 216,
     "metadata": {},
     "output_type": "execute_result"
    }
   ],
   "source": [
    "random_search.best_estimator_"
   ]
  },
  {
   "cell_type": "code",
   "execution_count": 217,
   "id": "7d1545bf",
   "metadata": {},
   "outputs": [
    {
     "data": {
      "text/plain": [
       "{'min_child_weight': 5,\n",
       " 'max_depth': 3,\n",
       " 'learning_rate': 0.1,\n",
       " 'gamma': 0.4,\n",
       " 'colsample_bytree': 0.7}"
      ]
     },
     "execution_count": 217,
     "metadata": {},
     "output_type": "execute_result"
    }
   ],
   "source": [
    "random_search.best_params_"
   ]
  },
  {
   "cell_type": "code",
   "execution_count": 218,
   "id": "d2c92ae1",
   "metadata": {},
   "outputs": [],
   "source": [
    "regressor=XGBRegressor(min_child_weight= 5,\n",
    " max_depth= 3,\n",
    " learning_rate= 0.1,\n",
    " gamma= 0.4,\n",
    " colsample_bytree= 0.7)"
   ]
  },
  {
   "cell_type": "code",
   "execution_count": 219,
   "id": "2678af05",
   "metadata": {},
   "outputs": [],
   "source": [
    "regressor.fit(X_train,y_train)                              # fitting the data\n",
    "y_xgb1=regressor.predict(X_test)"
   ]
  },
  {
   "cell_type": "code",
   "execution_count": 220,
   "id": "aefa8b09",
   "metadata": {},
   "outputs": [
    {
     "data": {
      "text/plain": [
       "0.8709406198572747"
      ]
     },
     "execution_count": 220,
     "metadata": {},
     "output_type": "execute_result"
    }
   ],
   "source": [
    "r2score_xgb=r2_score(y_test,y_xgb1)\n",
    "r2score_xgb"
   ]
  },
  {
   "cell_type": "code",
   "execution_count": 221,
   "id": "573f1482",
   "metadata": {},
   "outputs": [
    {
     "data": {
      "text/plain": [
       "0.8689389873417721"
      ]
     },
     "execution_count": 221,
     "metadata": {},
     "output_type": "execute_result"
    }
   ],
   "source": [
    "adj_r2_score_xgb=1-(((1-0.8709)*(402-1))/(402-6-1))\n",
    "adj_r2_score_xgb"
   ]
  },
  {
   "cell_type": "code",
   "execution_count": 222,
   "id": "2baf79d6",
   "metadata": {},
   "outputs": [],
   "source": [
    "y_train_xgb1=regressor.predict(X_train)"
   ]
  },
  {
   "cell_type": "code",
   "execution_count": 223,
   "id": "93791226",
   "metadata": {},
   "outputs": [
    {
     "data": {
      "text/plain": [
       "0.8899130886402261"
      ]
     },
     "execution_count": 223,
     "metadata": {},
     "output_type": "execute_result"
    }
   ],
   "source": [
    "r2train_score_xgb=r2_score(y_train,y_train_xgb1)\n",
    "r2train_score_xgb"
   ]
  },
  {
   "cell_type": "markdown",
   "id": "727ad9ac",
   "metadata": {},
   "source": [
    "## Linear Regression using Bagging"
   ]
  },
  {
   "cell_type": "code",
   "execution_count": 64,
   "id": "e870c8f2",
   "metadata": {},
   "outputs": [],
   "source": [
    "from sklearn.ensemble import BaggingRegressor\n",
    "\n",
    "model_bagg=BaggingRegressor(base_estimator=LR,n_estimators=40)\n",
    "model_bagg.fit(X_train,y_train)\n",
    "y_hat_bagg=model_bagg.predict(X_test)"
   ]
  },
  {
   "cell_type": "code",
   "execution_count": 65,
   "id": "842111da",
   "metadata": {},
   "outputs": [
    {
     "data": {
      "text/plain": [
       "0.7606553410231058"
      ]
     },
     "execution_count": 65,
     "metadata": {},
     "output_type": "execute_result"
    }
   ],
   "source": [
    "r2score=r2_score(y_test,y_hat_bagg)\n",
    "r2score"
   ]
  },
  {
   "cell_type": "code",
   "execution_count": 66,
   "id": "14a4ab1c",
   "metadata": {},
   "outputs": [
    {
     "data": {
      "text/plain": [
       "0.7462025316455696"
      ]
     },
     "execution_count": 66,
     "metadata": {},
     "output_type": "execute_result"
    }
   ],
   "source": [
    "adjusted_r2= 1-(((1-0.75)*(402-1))/(402-6-1))\n",
    "adjusted_r2"
   ]
  },
  {
   "cell_type": "code",
   "execution_count": 79,
   "id": "2d2dafcb",
   "metadata": {},
   "outputs": [],
   "source": [
    "ytrain_hat_bagg=model_bagg.predict(X_train)"
   ]
  },
  {
   "cell_type": "code",
   "execution_count": 80,
   "id": "7b33e514",
   "metadata": {},
   "outputs": [
    {
     "data": {
      "text/plain": [
       "0.7452706573745427"
      ]
     },
     "execution_count": 80,
     "metadata": {},
     "output_type": "execute_result"
    }
   ],
   "source": [
    "r2_train_score1=r2_score(y_train,ytrain_hat_bagg)\n",
    "r2_train_score1"
   ]
  },
  {
   "cell_type": "markdown",
   "id": "78a6292f",
   "metadata": {},
   "source": [
    "## Prediction"
   ]
  },
  {
   "cell_type": "code",
   "execution_count": 67,
   "id": "d6b74bd1",
   "metadata": {},
   "outputs": [
    {
     "data": {
      "text/plain": [
       "array([3504.68862847])"
      ]
     },
     "execution_count": 67,
     "metadata": {},
     "output_type": "execute_result"
    }
   ],
   "source": [
    "new_data=pd.DataFrame({'age':[31],'sex':[1],'bmi':[25.74],'children':[0],'smoker':[0],'region':[3]})\n",
    "y_predict=gbm.predict(new_data)\n",
    "y_predict"
   ]
  },
  {
   "cell_type": "code",
   "execution_count": 239,
   "id": "c7bb6fb9",
   "metadata": {},
   "outputs": [
    {
     "data": {
      "text/plain": [
       "array([16738.13406687])"
      ]
     },
     "execution_count": 239,
     "metadata": {},
     "output_type": "execute_result"
    }
   ],
   "source": [
    "new_data=pd.DataFrame({'age':[19],'sex':[0],'bmi':[27.9],'children':[0],'smoker':[1],'region':[3]})\n",
    "y_predict=dt1.predict(new_data)\n",
    "y_predict"
   ]
  },
  {
   "cell_type": "code",
   "execution_count": 240,
   "id": "c2053c0b",
   "metadata": {},
   "outputs": [
    {
     "data": {
      "text/plain": [
       "array([4243.7827], dtype=float32)"
      ]
     },
     "execution_count": 240,
     "metadata": {},
     "output_type": "execute_result"
    }
   ],
   "source": [
    "new_data=pd.DataFrame({'age':[31],'sex':[0],'bmi':[25.74],'children':[0],'smoker':[0],'region':[2]})\n",
    "y_predict=regressor.predict(new_data)\n",
    "y_predict"
   ]
  },
  {
   "cell_type": "code",
   "execution_count": 227,
   "id": "863565cf",
   "metadata": {},
   "outputs": [
    {
     "name": "stdout",
     "output_type": "stream",
     "text": [
      "[3504.68862847]\n"
     ]
    }
   ],
   "source": [
    "# another way to predict\n",
    "input_data=(31,1,25.74,0,0,3)\n",
    "input_data_as_numpy_array=np.asarray(input_data)\n",
    "input_data_reshaped=input_data_as_numpy_array.reshape(1,-1)\n",
    "prediction=gbm.predict(input_data_reshaped)\n",
    "print(prediction)"
   ]
  },
  {
   "cell_type": "markdown",
   "id": "0f4865e7",
   "metadata": {},
   "source": [
    "### Insights\n",
    "We have applied several algorithms including linear regression, decision tree, random forest, k-nearest neighbours, gradient boosting, bagging and XGboost. The algorithms and their adjusted-R2 score is mentioned below:\n",
    "- Linear Regression: Testing score-- 0.75 and training score-- 74.5%\n",
    "- Decision Tree: Testing score-- 0.76 and training score-- 100%\n",
    "- Hyperparameter Tuning of Decision Tree: Testing score--86.8 % and training score--84 %\n",
    "- Random Forest: Testing score-- 84% and training score--97.5%\n",
    "- Hyperparameter Tuning of Random Forest: Testing score--85.7 % and training score--91 %\n",
    "- Gradient Boosting: Testing score-- 86.8% and training score-- 90.5%\n",
    "- Linear Regression using Bagging: Testing score-- 74% and training score-- 74%\n",
    "- XGBoost: Tesing score-- 82.7% and training score-- 99%\n",
    "- Hyperparameter Tuning of XGBoost: Testing score-- 86.8% and training score-- 88.4%"
   ]
  },
  {
   "cell_type": "markdown",
   "id": "d253ebc9",
   "metadata": {},
   "source": [
    "### Conclusion\n",
    "Therefore, by looking at the score, we find out that **Gradient Boosting**, **Hyperparmeter Tuning of Decision Tree** and **Hyperparameter Tuning of XGBoost** are the best algorithms to predict insurance charge for individuals based on their attributes."
   ]
  },
  {
   "cell_type": "code",
   "execution_count": null,
   "id": "e32255f6",
   "metadata": {},
   "outputs": [],
   "source": []
  }
 ],
 "metadata": {
  "kernelspec": {
   "display_name": "Python 3 (ipykernel)",
   "language": "python",
   "name": "python3"
  },
  "language_info": {
   "codemirror_mode": {
    "name": "ipython",
    "version": 3
   },
   "file_extension": ".py",
   "mimetype": "text/x-python",
   "name": "python",
   "nbconvert_exporter": "python",
   "pygments_lexer": "ipython3",
   "version": "3.10.9"
  }
 },
 "nbformat": 4,
 "nbformat_minor": 5
}
